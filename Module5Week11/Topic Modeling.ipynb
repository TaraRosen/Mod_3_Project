{
 "cells": [
  {
   "cell_type": "markdown",
   "metadata": {},
   "source": [
    "# Topic Modeling"
   ]
  },
  {
   "cell_type": "code",
   "execution_count": 41,
   "metadata": {},
   "outputs": [],
   "source": [
    "# !pip install spacy\n",
    "# !pip install pyLDAvis"
   ]
  },
  {
   "cell_type": "code",
   "execution_count": 42,
   "metadata": {},
   "outputs": [],
   "source": [
    "import random\n",
    "\n",
    "import nltk\n",
    "from nltk.corpus import wordnet as wn\n",
    "from nltk.stem.wordnet import WordNetLemmatizer\n",
    "# nltk.download('wordnet')\n",
    "\n",
    "import spacy\n",
    "from spacy.lang.en import English\n",
    "# spacy.load('en')"
   ]
  },
  {
   "cell_type": "code",
   "execution_count": 43,
   "metadata": {},
   "outputs": [],
   "source": [
    "parser = English()\n",
    "def tokenize(text):\n",
    "    lda_tokens = []\n",
    "    tokens = parser(text)\n",
    "    for token in tokens:\n",
    "        if token.orth_.isspace():\n",
    "            continue\n",
    "        elif token.like_url:\n",
    "            lda_tokens.append('URL')\n",
    "        elif token.orth_.startswith('@'):\n",
    "            lda_tokens.append('SCREEN_NAME')\n",
    "        else:\n",
    "            lda_tokens.append(token.lower_)\n",
    "    return lda_tokens\n",
    "\n",
    "\n",
    "def get_lemma(word):\n",
    "    lemma = wn.morphy(word)\n",
    "    if lemma is None:\n",
    "        return word\n",
    "    else:\n",
    "        return lemma\n",
    "    \n",
    "\n",
    "def get_lemma2(word):\n",
    "    return WordNetLemmatizer().lemmatize(word)\n",
    "\n",
    "def prepare_text_for_lda(text):\n",
    "    tokens = tokenize(text)\n",
    "    tokens = [token for token in tokens if len(token) > 4]\n",
    "    tokens = [token for token in tokens if token not in en_stop]\n",
    "    tokens = [get_lemma(token) for token in tokens]\n",
    "    return tokens"
   ]
  },
  {
   "cell_type": "code",
   "execution_count": 44,
   "metadata": {},
   "outputs": [
    {
     "name": "stderr",
     "output_type": "stream",
     "text": [
      "[nltk_data] Downloading package stopwords to\n",
      "[nltk_data]     /Users/davidhaase/nltk_data...\n",
      "[nltk_data]   Package stopwords is already up-to-date!\n"
     ]
    }
   ],
   "source": [
    "nltk.download('stopwords')\n",
    "en_stop = set(nltk.corpus.stopwords.words('english'))"
   ]
  },
  {
   "cell_type": "code",
   "execution_count": 45,
   "metadata": {},
   "outputs": [
    {
     "name": "stdout",
     "output_type": "stream",
     "text": [
      "1594\n",
      "1093\n",
      "752\n",
      "1916\n",
      "1910\n",
      "1597\n"
     ]
    }
   ],
   "source": [
    "S1 = '''She packed my bags last night pre-flight\n",
    "Zero hour, nine AM\n",
    "And I'm gonna be high as a kite by then\n",
    "I miss the earth so much, I miss my wife\n",
    "It's lonely out in space\n",
    "On such a timeless flight\n",
    "\n",
    "And I think it's gonna be a long, long time\n",
    "'Til touch down brings me round again to find\n",
    "I'm not the man they think I am at home\n",
    "Oh no no no I'm a rocket man\n",
    "Rocket man burning out his fuse up here alone\n",
    "\n",
    "And I think it's gonna be a long, long time\n",
    "'Til touch down brings me round again to find\n",
    "I'm not the man they think I am at home\n",
    "Oh no no no I'm a rocket man\n",
    "Rocket man burning out his fuse up here alone\n",
    "\n",
    "Mars ain't the kind of place to raise your kids\n",
    "In fact it's cold as hell\n",
    "And there's no one there to raise them if you did\n",
    "And all this science I don't understand\n",
    "It's just my job five days a week\n",
    "A rocket man, a rocket man\n",
    "\n",
    "And I think it's gonna be a long, long time\n",
    "'Til touch down brings me round again to find\n",
    "I'm not the man they think I am at home\n",
    "Oh no no no I'm a rocket man\n",
    "Rocket man burning out his fuse up here alone\n",
    "\n",
    "And I think it's gonna be a long, long time\n",
    "'Til touch down brings me round again to find\n",
    "I'm not the man they think I am at home\n",
    "Oh no no no I'm a rocket man\n",
    "Rocket man burning out his fuse up here alone\n",
    "\n",
    "And I think it's gonna be a long, long time\n",
    "And I think it's gonna be a long, long time\n",
    "And I think it's gonna be a long, long time\n",
    "And I think it's gonna be a long, long time\n",
    "And I think it's gonna be a long, long time\n",
    "And I think it's gonna be a long, long time\n",
    "And I think it's gonna be a long, long time\n",
    "And I think it's gonna be a long, long time'''\n",
    "\n",
    "S2 = '''When are you gonna come down?\n",
    "When are you going to land?\n",
    "I should have stayed on the farm\n",
    "I should have listened to my old man\n",
    "\n",
    "You know you can't hold me forever\n",
    "I didn't sign up with you\n",
    "I'm not a present for your friends to open\n",
    "This boy's too young to be singing, the blues\n",
    "\n",
    "So goodbye yellow brick road\n",
    "Where the dogs of society howl\n",
    "You can't plant me in your penthouse\n",
    "I'm going back to my plough\n",
    "\n",
    "Back to the howling old owl in the woods\n",
    "Hunting the horny back toad\n",
    "Oh I've finally decided my future lies\n",
    "Beyond the yellow brick road\n",
    "\n",
    "What do you think you'll do then?\n",
    "I bet that'll shoot down your plane\n",
    "It'll take you a couple of vodka and tonics\n",
    "To set you on your feet again\n",
    "\n",
    "Maybe you'll get a replacement\n",
    "There's plenty like me to be found\n",
    "Mongrels who ain't got a penny\n",
    "Sniffing for tidbits like you on the ground\n",
    "\n",
    "So goodbye yellow brick road\n",
    "Where the dogs of society howl\n",
    "You can't plant me in your penthouse\n",
    "I'm going back to my plough\n",
    "\n",
    "Back to the howling old owl in the woods\n",
    "Hunting the horny back toad\n",
    "Oh I've finally decided my future lies\n",
    "Beyond the yellow brick road'''\n",
    "\n",
    "S3 = '''Blue jean baby, L.A. lady, seamstress for the band\n",
    "Pretty eyed, pirate smile, you'll marry a music man\n",
    "Ballerina, you must have seen her dancing in the sand\n",
    "And now she's in me, always with me, tiny dancer in my hand\n",
    "Jesus freaks out in the street\n",
    "Handing tickets out for God\n",
    "Turning back she just laughs\n",
    "The boulevard is not that bad\n",
    "Piano man he makes his stand\n",
    "In the auditorium\n",
    "Looking on she sings the songs\n",
    "The words she knows, the tune she hums\n",
    "But oh how it feels so real\n",
    "Lying here with no one near\n",
    "Only you and you can hear me\n",
    "When I say softly, slowly\n",
    "Hold me closer tiny dancer\n",
    "Count the headlights on the highway\n",
    "Lay me down in sheets of linen\n",
    "You had a busy day today\n",
    "Hold me closer tiny dancer\n",
    "Count the headlights on the highway\n",
    "Lay me…'''\n",
    "\n",
    "S4 = '''I used to be a rolling stone you know\n",
    "If a cause was right\n",
    "I'd leave to find the answer on the road\n",
    "I used to be a heart beating for someone\n",
    "But the times have changed\n",
    "The less I say the more my work gets done\n",
    "\n",
    "'Cause I live and breathe this Philadelphia freedom\n",
    "From the day that I was born I've waved the flag\n",
    "Philadelphia freedom took me knee high to a man, yeah\n",
    "Gave me a piece of mama, daddy never had\n",
    "\n",
    "Oh Philadelphia freedom, shine on me, I love you\n",
    "Shine the light, through the eyes of the ones left behind\n",
    "Shine the light, shine the light\n",
    "Shine the light, won't you shine the light\n",
    "Philadelphia freedom, I love-ve-ve you, yes I do\n",
    "\n",
    "If you choose to you can live your life alone\n",
    "Some people choose the city (some people the city)\n",
    "Some others choose the good old family home (some others choose a good old)\n",
    "I like living easy without family ties (living easy)\n",
    "Till the whippoorwill of freedom zapped me\n",
    "Right between the eyes\n",
    "\n",
    "'Cause I live and breathe this Philadelphia freedom\n",
    "From the day that I was born I've waved the flag\n",
    "Philadelphia freedom took me knee high to a man\n",
    "Mm mm, gave me a piece of mama, daddy never had\n",
    "\n",
    "Oh Philadelphia freedom, shine on me, I love you\n",
    "Shine the light, through the eyes of the ones left behind\n",
    "Shine the light, shine the light\n",
    "Shine the light, won't you shine the light\n",
    "Philadelphia freedom, I love-ve-ve you, yes I do\n",
    "\n",
    "Oh, Philadelphia freedom, shine on me, I love you\n",
    "Shine the light, through the eyes of the ones left behind\n",
    "Shine the light, shine the light\n",
    "Shine the light, won't you shine the light\n",
    "Philadelphia freedom, I love-ve-ve,\n",
    "You know I love-ve-ve , you know I love-ve-ve you\n",
    "Yes I do,  Philadelphia freedom\n",
    "I love-ve-ve you\n",
    "Yes I do,  Philadelphia freedom\n",
    "You know that I love-ve-ve you\n",
    "Yes I do,  Philadelphia freedom\n",
    "Don't you know that I love-ve-ve you\n",
    "Yes I do,  Philadelphia freedom\n",
    "Don't you know that I love-ve-ve you\n",
    "Yes I do,  Philadelphia freedom'''\n",
    "\n",
    "S5 = '''I remember when rock was young\n",
    "Me and Suzie had so much fun\n",
    "Holding hands and skimming stones\n",
    "Had an old gold Chevy and a place of my own\n",
    "But the biggest kick I ever got\n",
    "Was doing a thing called the Crocodile Rock\n",
    "While the other kids were Rocking Round the Clock\n",
    "We were hopping and bopping to the Crocodile Rock\n",
    "\n",
    "Well Crocodile Rocking is something shocking\n",
    "When your feet just can't keep still\n",
    "I never knew me a better time and I guess I never will\n",
    "Oh Lawdy mama those Friday nights\n",
    "When Suzie wore her dresses tight\n",
    "And the Crocodile Rocking was out of sight\n",
    "\n",
    "La lalalala la lalalala la lalalala la\n",
    "\n",
    "But the years went by and the rock just died\n",
    "Suzie went and left us for some foreign guy\n",
    "Long nights crying by the record machine\n",
    "Dreaming of my Chevy and my old blue jeans\n",
    "But they'll never kill the thrills we've got\n",
    "Burning up to the Crocodile Rock\n",
    "Learning fast as the weeks went past\n",
    "We really thought the Crocodile Rock would last\n",
    "\n",
    "Well Crocodile Rocking is something shocking\n",
    "When your feet just can't keep still\n",
    "I never knew me a better time and I guess I never will\n",
    "Oh Lawdy mama those Friday nights\n",
    "When Suzie wore her dresses tight\n",
    "And the Crocodile Rocking was out of sight\n",
    "\n",
    "La lalalala la lalalala la lalalala la\n",
    "\n",
    "I remember when rock was young\n",
    "Me and Suzie had so much fun\n",
    "Holding hands and skimming stones\n",
    "Had an old gold Chevy and a place of my own\n",
    "But the biggest kick I ever got\n",
    "Was doing a thing called the Crocodile Rock\n",
    "While the other kids were Rocking Round the Clock\n",
    "We were hopping and bopping to the Crocodile Rock\n",
    "\n",
    "Well Crocodile Rocking is something shocking\n",
    "When your feet just can't keep still\n",
    "I never knew me a better time and I guess I never will\n",
    "Oh Lawdy mama those Friday nights\n",
    "When Suzie wore her dresses tight\n",
    "And the Crocodile Rocking was out of sight\n",
    "\n",
    "La lalalala la lalalala la lalalala la\n",
    "La lalalala la lalalala la lalalala la\n",
    "La lalalala la lalalala la lalalala la'''\n",
    "\n",
    "S6 = '''Hey kids, shake it loose together\n",
    "The spotlight's hitting something\n",
    "That's been known to change the weather\n",
    "We'll kill the fatted calf tonight\n",
    "So stick around\n",
    "You're gonna hear electric music\n",
    "Solid walls of sound\n",
    "\n",
    "Say, Candy and Ronnie, have you seen them yet\n",
    "Uh but they're so spaced out, B-B-B-Bennie and the Jets\n",
    "Oh but they're weird and they're wonderful\n",
    "Oh Bennie she's really keen\n",
    "She's got electric boots a mohair suit\n",
    "You know I read it in a magazine\n",
    "B-B-B-Bennie and the Jets\n",
    "\n",
    "Hey kids, plug into the faithless\n",
    "Maybe they're blinded\n",
    "But Bennie makes them ageless\n",
    "We shall survive, let us take ourselves along\n",
    "Where we fight our parents out in the streets\n",
    "To find who's right and who's wrong\n",
    "\n",
    "Oh Candy and Ronnie, have you seen them yet\n",
    "Oh but they're so spaced out, Bennie and the Jets\n",
    "Oh but they're weird and they're wonderful\n",
    "Oh Bennie she's really keen\n",
    "She's got electric boots a mohair suit\n",
    "You know I read it in a magazine, oh\n",
    "B-B-B-Bennie and the Jets\n",
    "\n",
    "Oh Candy and Ronnie, have you seen them yet\n",
    "Oh but they're so spaced out, Bennie and the Jets\n",
    "Oh but they're weird and they're wonderful\n",
    "Oh Bennie she's really keen\n",
    "She's got electric boots a mohair suit\n",
    "You know I read it in a magazine, oh\n",
    "B-B-B-Bennie and the Jets\n",
    "Bennie, Bennie and the Jets\n",
    "Bennie, Bennie, Bennie, Bennie, Bennie and the Jets\n",
    "Bennie, Bennie, Bennie, Bennie, Bennie and the Jets\n",
    "Bennie, Bennie, Bennie, Bennie and the Jets\n",
    "Bennie, Bennie, Bennie, Bennie, Bennie, Bennie, Bennie, Bennie and the Jets\n",
    "Jets, Jets\n",
    "Bennie, Bennie, Bennie, Bennie, Bennie, Bennie, Bennie, Bennie, Bennie\n",
    "Bennie, Bennie and the Jets'''\n",
    "\n",
    "songs = [S1, S2, S3, S4, S5, S6]\n",
    "for song in songs:\n",
    "    print(len(song))\n",
    "\n",
    "\n"
   ]
  },
  {
   "cell_type": "code",
   "execution_count": 46,
   "metadata": {},
   "outputs": [],
   "source": [
    "\n",
    "text_data = []\n",
    "for song in songs:\n",
    "    tokens = prepare_text_for_lda(song)\n",
    "    text_data.append(tokens)"
   ]
  },
  {
   "cell_type": "code",
   "execution_count": 47,
   "metadata": {},
   "outputs": [
    {
     "name": "stderr",
     "output_type": "stream",
     "text": [
      "/Users/davidhaase/anaconda3/lib/python3.7/site-packages/smart_open/smart_open_lib.py:398: UserWarning: This function is deprecated, use smart_open.open instead. See the migration notes for details: https://github.com/RaRe-Technologies/smart_open/blob/master/README.rst#migrating-to-the-new-open-function\n",
      "  'See the migration notes for details: %s' % _MIGRATION_NOTES_URL\n"
     ]
    }
   ],
   "source": [
    "\n",
    "from gensim import corpora\n",
    "dictionary = corpora.Dictionary(text_data)\n",
    "corpus = [dictionary.doc2bow(text) for text in text_data]\n",
    "import pickle\n",
    "pickle.dump(corpus, open('corpus.pkl', 'wb'))\n",
    "dictionary.save('dictionary.gensim')"
   ]
  },
  {
   "cell_type": "code",
   "execution_count": 49,
   "metadata": {},
   "outputs": [
    {
     "name": "stdout",
     "output_type": "stream",
     "text": [
      "(0, '0.042*\"dancer\" + 0.028*\"headlight\" + 0.028*\"closer\" + 0.028*\"highway\"')\n",
      "(1, '0.184*\"bennie\" + 0.074*\"shine\" + 0.066*\"freedom\" + 0.062*\"philadelphia\"')\n",
      "(2, '0.177*\"think\" + 0.111*\"rocket\" + 0.046*\"alone\" + 0.046*\"burning\"')\n",
      "(3, '0.069*\"lalalala\" + 0.056*\"crocodile\" + 0.037*\"rock\" + 0.033*\"never\"')\n",
      "(4, '0.005*\"lalalala\" + 0.005*\"rock\" + 0.005*\"crocodile\" + 0.005*\"never\"')\n",
      "(5, '0.005*\"dancer\" + 0.005*\"count\" + 0.005*\"highway\" + 0.005*\"closer\"')\n"
     ]
    },
    {
     "name": "stderr",
     "output_type": "stream",
     "text": [
      "/Users/davidhaase/anaconda3/lib/python3.7/site-packages/smart_open/smart_open_lib.py:398: UserWarning: This function is deprecated, use smart_open.open instead. See the migration notes for details: https://github.com/RaRe-Technologies/smart_open/blob/master/README.rst#migrating-to-the-new-open-function\n",
      "  'See the migration notes for details: %s' % _MIGRATION_NOTES_URL\n",
      "/Users/davidhaase/anaconda3/lib/python3.7/site-packages/smart_open/smart_open_lib.py:398: UserWarning: This function is deprecated, use smart_open.open instead. See the migration notes for details: https://github.com/RaRe-Technologies/smart_open/blob/master/README.rst#migrating-to-the-new-open-function\n",
      "  'See the migration notes for details: %s' % _MIGRATION_NOTES_URL\n"
     ]
    }
   ],
   "source": [
    "### import gensim\n",
    "NUM_TOPICS = 6\n",
    "ldamodel = gensim.models.ldamodel.LdaModel(corpus, num_topics = NUM_TOPICS, id2word=dictionary, passes=15)\n",
    "ldamodel.save('model6.gensim')\n",
    "topics = ldamodel.print_topics(num_words=4)\n",
    "for topic in topics:\n",
    "    print(topic)"
   ]
  },
  {
   "cell_type": "code",
   "execution_count": 54,
   "metadata": {},
   "outputs": [
    {
     "name": "stderr",
     "output_type": "stream",
     "text": [
      "/Users/davidhaase/anaconda3/lib/python3.7/site-packages/smart_open/smart_open_lib.py:398: UserWarning: This function is deprecated, use smart_open.open instead. See the migration notes for details: https://github.com/RaRe-Technologies/smart_open/blob/master/README.rst#migrating-to-the-new-open-function\n",
      "  'See the migration notes for details: %s' % _MIGRATION_NOTES_URL\n",
      "/Users/davidhaase/anaconda3/lib/python3.7/site-packages/smart_open/smart_open_lib.py:398: UserWarning: This function is deprecated, use smart_open.open instead. See the migration notes for details: https://github.com/RaRe-Technologies/smart_open/blob/master/README.rst#migrating-to-the-new-open-function\n",
      "  'See the migration notes for details: %s' % _MIGRATION_NOTES_URL\n",
      "/Users/davidhaase/anaconda3/lib/python3.7/site-packages/pyLDAvis/_prepare.py:257: FutureWarning: Sorting because non-concatenation axis is not aligned. A future version\n",
      "of pandas will change to not sort by default.\n",
      "\n",
      "To accept the future behavior, pass 'sort=False'.\n",
      "\n",
      "To retain the current behavior and silence the warning, pass 'sort=True'.\n",
      "\n",
      "  return pd.concat([default_term_info] + list(topic_dfs))\n"
     ]
    }
   ],
   "source": [
    "dictionary = gensim.corpora.Dictionary.load('dictionary.gensim')\n",
    "corpus = pickle.load(open('corpus.pkl', 'rb'))\n",
    "lda = gensim.models.ldamodel.LdaModel.load('model6.gensim')\n",
    "import pyLDAvis.gensim\n",
    "lda_display = pyLDAvis.gensim.prepare(lda, corpus, dictionary, sort_topics=False)\n",
    "pyLDAvis.display(lda_display)\n",
    "pyLDAvis.save_html(lda_display, 'pylda.html')"
   ]
  },
  {
   "cell_type": "code",
   "execution_count": 52,
   "metadata": {},
   "outputs": [
    {
     "name": "stdout",
     "output_type": "stream",
     "text": [
      "(0, '0.127*\"bennie\" + 0.046*\"think\" + 0.043*\"lalalala\" + 0.035*\"crocodile\"')\n",
      "(1, '0.035*\"brick\" + 0.035*\"yellow\" + 0.027*\"going\" + 0.019*\"penthouse\"')\n",
      "(2, '0.085*\"shine\" + 0.076*\"freedom\" + 0.071*\"light\" + 0.071*\"philadelphia\"')\n"
     ]
    },
    {
     "name": "stderr",
     "output_type": "stream",
     "text": [
      "/Users/davidhaase/anaconda3/lib/python3.7/site-packages/smart_open/smart_open_lib.py:398: UserWarning: This function is deprecated, use smart_open.open instead. See the migration notes for details: https://github.com/RaRe-Technologies/smart_open/blob/master/README.rst#migrating-to-the-new-open-function\n",
      "  'See the migration notes for details: %s' % _MIGRATION_NOTES_URL\n",
      "/Users/davidhaase/anaconda3/lib/python3.7/site-packages/smart_open/smart_open_lib.py:398: UserWarning: This function is deprecated, use smart_open.open instead. See the migration notes for details: https://github.com/RaRe-Technologies/smart_open/blob/master/README.rst#migrating-to-the-new-open-function\n",
      "  'See the migration notes for details: %s' % _MIGRATION_NOTES_URL\n"
     ]
    }
   ],
   "source": [
    "ldamodel = gensim.models.ldamodel.LdaModel(corpus, num_topics = 3, id2word=dictionary, passes=15)\n",
    "ldamodel.save('model3.gensim')\n",
    "topics = ldamodel.print_topics(num_words=4)\n",
    "for topic in topics:\n",
    "    print(topic)"
   ]
  },
  {
   "cell_type": "code",
   "execution_count": 53,
   "metadata": {},
   "outputs": [
    {
     "name": "stderr",
     "output_type": "stream",
     "text": [
      "/Users/davidhaase/anaconda3/lib/python3.7/site-packages/smart_open/smart_open_lib.py:398: UserWarning: This function is deprecated, use smart_open.open instead. See the migration notes for details: https://github.com/RaRe-Technologies/smart_open/blob/master/README.rst#migrating-to-the-new-open-function\n",
      "  'See the migration notes for details: %s' % _MIGRATION_NOTES_URL\n",
      "/Users/davidhaase/anaconda3/lib/python3.7/site-packages/smart_open/smart_open_lib.py:398: UserWarning: This function is deprecated, use smart_open.open instead. See the migration notes for details: https://github.com/RaRe-Technologies/smart_open/blob/master/README.rst#migrating-to-the-new-open-function\n",
      "  'See the migration notes for details: %s' % _MIGRATION_NOTES_URL\n",
      "/Users/davidhaase/anaconda3/lib/python3.7/site-packages/pyLDAvis/_prepare.py:257: FutureWarning: Sorting because non-concatenation axis is not aligned. A future version\n",
      "of pandas will change to not sort by default.\n",
      "\n",
      "To accept the future behavior, pass 'sort=False'.\n",
      "\n",
      "To retain the current behavior and silence the warning, pass 'sort=True'.\n",
      "\n",
      "  return pd.concat([default_term_info] + list(topic_dfs))\n"
     ]
    },
    {
     "data": {
      "text/html": [
       "\n",
       "<link rel=\"stylesheet\" type=\"text/css\" href=\"https://cdn.rawgit.com/bmabey/pyLDAvis/files/ldavis.v1.0.0.css\">\n",
       "\n",
       "\n",
       "<div id=\"ldavis_el115521123205223047854280180\"></div>\n",
       "<script type=\"text/javascript\">\n",
       "\n",
       "var ldavis_el115521123205223047854280180_data = {\"mdsDat\": {\"x\": [-0.18418072091681054, 0.015913627341922747, 0.1682670935748876], \"y\": [0.05909848132402455, -0.13671582995414697, 0.07761734863012235], \"topics\": [1, 2, 3], \"cluster\": [1, 1, 1], \"Freq\": [57.852821350097656, 12.126523971557617, 30.020654678344727]}, \"tinfo\": {\"Category\": [\"Default\", \"Default\", \"Default\", \"Default\", \"Default\", \"Default\", \"Default\", \"Default\", \"Default\", \"Default\", \"Default\", \"Default\", \"Default\", \"Default\", \"Default\", \"Default\", \"Default\", \"Default\", \"Default\", \"Default\", \"Default\", \"Default\", \"Default\", \"Default\", \"Default\", \"Default\", \"Default\", \"Default\", \"Default\", \"Default\", \"Topic1\", \"Topic1\", \"Topic1\", \"Topic1\", \"Topic1\", \"Topic1\", \"Topic1\", \"Topic1\", \"Topic1\", \"Topic1\", \"Topic1\", \"Topic1\", \"Topic1\", \"Topic1\", \"Topic1\", \"Topic1\", \"Topic1\", \"Topic1\", \"Topic1\", \"Topic1\", \"Topic1\", \"Topic1\", \"Topic1\", \"Topic1\", \"Topic1\", \"Topic1\", \"Topic1\", \"Topic1\", \"Topic1\", \"Topic1\", \"Topic1\", \"Topic1\", \"Topic2\", \"Topic2\", \"Topic2\", \"Topic2\", \"Topic2\", \"Topic2\", \"Topic2\", \"Topic2\", \"Topic2\", \"Topic2\", \"Topic2\", \"Topic2\", \"Topic2\", \"Topic2\", \"Topic2\", \"Topic2\", \"Topic2\", \"Topic2\", \"Topic2\", \"Topic2\", \"Topic2\", \"Topic2\", \"Topic2\", \"Topic2\", \"Topic2\", \"Topic2\", \"Topic2\", \"Topic2\", \"Topic2\", \"Topic2\", \"Topic2\", \"Topic2\", \"Topic3\", \"Topic3\", \"Topic3\", \"Topic3\", \"Topic3\", \"Topic3\", \"Topic3\", \"Topic3\", \"Topic3\", \"Topic3\", \"Topic3\", \"Topic3\", \"Topic3\", \"Topic3\", \"Topic3\", \"Topic3\", \"Topic3\", \"Topic3\", \"Topic3\", \"Topic3\", \"Topic3\", \"Topic3\", \"Topic3\", \"Topic3\", \"Topic3\", \"Topic3\", \"Topic3\", \"Topic3\", \"Topic3\", \"Topic3\", \"Topic3\", \"Topic3\", \"Topic3\", \"Topic3\", \"Topic3\", \"Topic3\", \"Topic3\"], \"Freq\": [37.0, 13.0, 11.0, 11.0, 11.0, 2.0, 2.0, 12.0, 14.0, 2.0, 10.0, 3.0, 1.0, 1.0, 1.0, 1.0, 1.0, 1.0, 1.0, 1.0, 1.0, 1.0, 1.0, 1.0, 1.0, 8.0, 2.0, 2.0, 2.0, 1.0, 37.009490966796875, 12.511746406555176, 10.065107345581055, 8.437106132507324, 6.79994010925293, 13.339617729187012, 5.170391082763672, 5.168348789215088, 4.354009628295898, 4.352924823760986, 3.538041591644287, 3.5380351543426514, 3.5377867221832275, 3.537592887878418, 3.537147045135498, 3.5366950035095215, 2.721189498901367, 2.721181869506836, 2.721102714538574, 2.721102476119995, 2.7210593223571777, 2.721050977706909, 2.720844268798828, 2.720660448074341, 2.7205896377563477, 2.720404624938965, 2.7202982902526855, 2.7202463150024414, 2.7202131748199463, 2.7201831340789795, 5.986406326293945, 3.5389490127563477, 2.124274730682373, 2.123901844024658, 1.6338945627212524, 1.1439664363861084, 1.1439625024795532, 1.1439379453659058, 1.1438442468643188, 1.143842101097107, 1.1438305377960205, 1.1437934637069702, 1.143785834312439, 1.1437807083129883, 1.1437788009643555, 1.1437790393829346, 1.1437040567398071, 1.143693208694458, 0.6537319421768188, 0.6537251472473145, 0.6537073850631714, 0.6536923050880432, 0.6536916494369507, 0.6536912322044373, 0.6536790132522583, 0.6536713242530823, 0.6536675095558167, 0.6536682844161987, 0.6536407470703125, 0.6536301970481873, 0.6536206007003784, 0.6536187529563904, 0.6542890071868896, 0.6539371013641357, 12.844771385192871, 11.446403503417969, 10.745352745056152, 10.744179725646973, 3.0362396240234375, 2.337709665298462, 2.3360486030578613, 1.6363965272903442, 1.6363831758499146, 1.636348009109497, 1.6363013982772827, 1.63535475730896, 1.6352735757827759, 1.6352370977401733, 1.6352143287658691, 1.6351791620254517, 1.635159969329834, 1.6350994110107422, 1.635066032409668, 1.6350102424621582, 0.9350486397743225, 0.9350457191467285, 0.9350411295890808, 0.9350407123565674, 0.9350401759147644, 0.9350390434265137, 0.9350377917289734, 0.9350327849388123, 0.9350312948226929, 0.9350308179855347, 1.6362000703811646, 1.6370642185211182, 0.9353989362716675, 0.9351263642311096, 0.9351130723953247, 0.935102105140686, 0.935092031955719], \"Term\": [\"bennie\", \"shine\", \"freedom\", \"light\", \"philadelphia\", \"brick\", \"yellow\", \"lalalala\", \"think\", \"going\", \"crocodile\", \"choose\", \"penthouse\", \"plough\", \"horny\", \"plant\", \"goodbye\", \"woods\", \"finally\", \"decide\", \"beyond\", \"society\", \"future\", \"howling\", \"hunting\", \"rocket\", \"dancer\", \"behind\", \"young\", \"maybe\", \"bennie\", \"lalalala\", \"crocodile\", \"rocket\", \"rock\", \"think\", \"round\", \"suzie\", \"burning\", \"night\", \"touch\", \"bring\", \"space\", \"electric\", \"really\", \"something\", \"boot\", \"weird\", \"mohair\", \"magazine\", \"wonderful\", \"candy\", \"ronnie\", \"guess\", \"place\", \"chevy\", \"tight\", \"dress\", \"lawdy\", \"shock\", \"never\", \"alone\", \"brick\", \"yellow\", \"going\", \"penthouse\", \"plough\", \"horny\", \"goodbye\", \"woods\", \"plant\", \"decide\", \"finally\", \"future\", \"society\", \"beyond\", \"hunting\", \"howling\", \"plane\", \"stay\", \"singing\", \"found\", \"penny\", \"plenty\", \"replacement\", \"listen\", \"shoot\", \"friend\", \"blues\", \"couple\", \"mongrel\", \"present\", \"maybe\", \"young\", \"shine\", \"freedom\", \"light\", \"philadelphia\", \"choose\", \"dancer\", \"behind\", \"highway\", \"headlight\", \"closer\", \"count\", \"'cause\", \"piece\", \"daddy\", \"breathe\", \"living\", \"wave\", \"others\", \"family\", \"people\", \"freak\", \"pirate\", \"auditorium\", \"today\", \"boulevard\", \"sheet\", \"looking\", \"turning\", \"stand\", \"jesus\", \"right\", \"never\", \"stone\", \"street\", \"make\", \"know\", \"music\"], \"Total\": [37.0, 13.0, 11.0, 11.0, 11.0, 2.0, 2.0, 12.0, 14.0, 2.0, 10.0, 3.0, 1.0, 1.0, 1.0, 1.0, 1.0, 1.0, 1.0, 1.0, 1.0, 1.0, 1.0, 1.0, 1.0, 8.0, 2.0, 2.0, 2.0, 1.0, 37.4102783203125, 12.915643692016602, 10.46668815612793, 8.834569931030273, 7.200780391693115, 14.225717544555664, 5.56838321685791, 5.5680437088012695, 4.751912593841553, 4.751696586608887, 3.935500144958496, 3.935497760772705, 3.935394287109375, 3.935314893722534, 3.935257911682129, 3.9352262020111084, 3.1188459396362305, 3.1188430786132812, 3.11881160736084, 3.11881160736084, 3.1187944412231445, 3.118790626525879, 3.118708848953247, 3.118826150894165, 3.1188137531280518, 3.118767738342285, 3.1187710762023926, 3.118727445602417, 3.1187493801116943, 3.118741035461426, 7.787479400634766, 4.636997222900391, 2.633527994155884, 2.633784532546997, 2.142667770385742, 1.651497483253479, 1.6514984369277954, 1.6515178680419922, 1.6515713930130005, 1.6515717506408691, 1.6515876054763794, 1.6516107320785522, 1.6516213417053223, 1.6516193151474, 1.6516224145889282, 1.6516234874725342, 1.6516635417938232, 1.6516811847686768, 1.1605262756347656, 1.1605300903320312, 1.160543441772461, 1.1605513095855713, 1.16055166721344, 1.1605525016784668, 1.1605572700500488, 1.1605664491653442, 1.1605656147003174, 1.1605702638626099, 1.1605857610702515, 1.1605947017669678, 1.1606006622314453, 1.1605993509292603, 1.9766209125518799, 2.793255090713501, 13.29700756072998, 11.893484115600586, 11.19202709197998, 11.192219734191895, 3.4756107330322266, 2.7736403942108154, 2.774013042449951, 2.0722663402557373, 2.0722620487213135, 2.0722522735595703, 2.072237968444824, 2.072497844696045, 2.0725114345550537, 2.0725173950195312, 2.072521448135376, 2.072526693344116, 2.0725302696228027, 2.072539806365967, 2.0725460052490234, 2.072554111480713, 1.3708815574645996, 1.3708806037902832, 1.3708794116973877, 1.3708791732788086, 1.3708786964416504, 1.3708789348602295, 1.3708784580230713, 1.370876669883728, 1.3708763122558594, 1.3708763122558594, 2.8887577056884766, 7.787479400634766, 3.0037569999694824, 2.1872446537017822, 2.187252998352051, 2.187217950820923, 2.187242269515991], \"loglift\": [30.0, 29.0, 28.0, 27.0, 26.0, 25.0, 24.0, 23.0, 22.0, 21.0, 20.0, 19.0, 18.0, 17.0, 16.0, 15.0, 14.0, 13.0, 12.0, 11.0, 10.0, 9.0, 8.0, 7.0, 6.0, 5.0, 4.0, 3.0, 2.0, 1.0, 0.5364999771118164, 0.515500009059906, 0.5080999732017517, 0.5012000203132629, 0.49000000953674316, 0.4830000102519989, 0.4731000065803528, 0.47279998660087585, 0.45980000495910645, 0.4596000015735626, 0.4408000111579895, 0.4408000111579895, 0.4408000111579895, 0.4406999945640564, 0.4406000077724457, 0.4404999911785126, 0.4108999967575073, 0.4108999967575073, 0.4108999967575073, 0.4108999967575073, 0.4108000099658966, 0.4108000099658966, 0.4108000099658966, 0.4106999933719635, 0.4106999933719635, 0.4106000065803528, 0.4106000065803528, 0.4106000065803528, 0.4104999899864197, 0.4104999899864197, 0.2842000126838684, 0.2770000100135803, 1.8948999643325806, 1.8946000337600708, 1.8387000560760498, 1.7425999641418457, 1.7425999641418457, 1.7425999641418457, 1.742400050163269, 1.742400050163269, 1.742400050163269, 1.742400050163269, 1.742400050163269, 1.742400050163269, 1.742400050163269, 1.742400050163269, 1.742300033569336, 1.7422000169754028, 1.5357999801635742, 1.5357999801635742, 1.5357999801635742, 1.5357999801635742, 1.5357999801635742, 1.5357999801635742, 1.5356999635696411, 1.5356999635696411, 1.5356999635696411, 1.5356999635696411, 1.5356999635696411, 1.535599946975708, 1.535599946975708, 1.535599946975708, 1.0041999816894531, 0.657800018787384, 1.1686999797821045, 1.1649999618530273, 1.162600040435791, 1.1624000072479248, 1.0680999755859375, 1.0322999954223633, 1.031499981880188, 0.9671000242233276, 0.9671000242233276, 0.9671000242233276, 0.9671000242233276, 0.9664000272750854, 0.9663000106811523, 0.9663000106811523, 0.9663000106811523, 0.9663000106811523, 0.9663000106811523, 0.9661999940872192, 0.9661999940872192, 0.9661999940872192, 0.8206999897956848, 0.8206999897956848, 0.8206999897956848, 0.8206999897956848, 0.8206999897956848, 0.8206999897956848, 0.8206999897956848, 0.8206999897956848, 0.8206999897956848, 0.8206999897956848, 0.6348000168800354, -0.3562999963760376, 0.03660000115633011, 0.35359999537467957, 0.35359999537467957, 0.35359999537467957, 0.35350000858306885], \"logprob\": [30.0, 29.0, 28.0, 27.0, 26.0, 25.0, 24.0, 23.0, 22.0, 21.0, 20.0, 19.0, 18.0, 17.0, 16.0, 15.0, 14.0, 13.0, 12.0, 11.0, 10.0, 9.0, 8.0, 7.0, 6.0, 5.0, 4.0, 3.0, 2.0, 1.0, -2.0620999336242676, -3.146699905395508, -3.3642001152038574, -3.5406999588012695, -3.7564001083374023, -3.0826001167297363, -4.030399799346924, -4.030799865722656, -4.202199935913086, -4.202499866485596, -4.4096999168396, -4.409800052642822, -4.409800052642822, -4.409900188446045, -4.409999847412109, -4.410099983215332, -4.672299861907959, -4.672299861907959, -4.672299861907959, -4.672299861907959, -4.672299861907959, -4.672299861907959, -4.672399997711182, -4.672399997711182, -4.672500133514404, -4.672500133514404, -4.672599792480469, -4.672599792480469, -4.672599792480469, -4.672599792480469, -3.8838000297546387, -4.4095001220703125, -3.3573999404907227, -3.357599973678589, -3.619800090789795, -3.976300001144409, -3.976300001144409, -3.976300001144409, -3.9763998985290527, -3.9763998985290527, -3.9763998985290527, -3.9765000343322754, -3.9765000343322754, -3.9765000343322754, -3.9765000343322754, -3.9765000343322754, -3.9765000343322754, -3.976599931716919, -4.535900115966797, -4.535900115966797, -4.535900115966797, -4.535900115966797, -4.535900115966797, -4.535900115966797, -4.535999774932861, -4.535999774932861, -4.535999774932861, -4.535999774932861, -4.535999774932861, -4.535999774932861, -4.535999774932861, -4.535999774932861, -4.534999847412109, -4.535600185394287, -2.464400053024292, -2.5796000957489014, -2.6428000926971436, -2.642899990081787, -3.9066998958587646, -4.168099880218506, -4.168799877166748, -4.524799823760986, -4.524799823760986, -4.524799823760986, -4.524899959564209, -4.525400161743164, -4.5254998207092285, -4.5254998207092285, -4.5254998207092285, -4.525599956512451, -4.525599956512451, -4.525599956512451, -4.525599956512451, -4.525700092315674, -5.084499835968018, -5.084499835968018, -5.084499835968018, -5.084499835968018, -5.084499835968018, -5.084499835968018, -5.084499835968018, -5.084499835968018, -5.084499835968018, -5.084499835968018, -4.524899959564209, -4.524400234222412, -5.084099769592285, -5.084400177001953, -5.084400177001953, -5.084400177001953, -5.084400177001953]}, \"token.table\": {\"Topic\": [3, 1, 3, 3, 3, 1, 2, 2, 1, 3, 3, 2, 1, 1, 1, 1, 3, 3, 3, 2, 1, 3, 3, 2, 1, 1, 3, 2, 2, 3, 3, 2, 2, 2, 2, 1, 3, 3, 2, 2, 2, 3, 1, 3, 1, 1, 3, 2, 3, 3, 1, 1, 3, 1, 2, 1, 2, 1, 3, 1, 3, 1, 3, 2, 2, 3, 3, 3, 3, 1, 2, 2, 2, 2, 2, 1, 2, 1, 3, 1, 1, 1, 1, 3, 3, 1, 2, 2, 2, 1, 1, 3, 2, 1, 3, 1, 3, 1, 1, 2, 1, 3, 1, 3, 3, 1, 1, 2, 2, 1, 2], \"Freq\": [0.9650191068649292, 0.8626272082328796, 0.2156568020582199, 0.729458749294281, 0.7209771275520325, 0.9890329837799072, 0.6054648756980896, 0.8616338968276978, 0.9618942737579346, 0.7294591665267944, 0.9650080800056458, 0.7594375610351562, 1.0163898468017578, 0.8417662978172302, 0.9619113206863403, 0.9619183540344238, 0.8631576299667358, 0.9651334285736084, 0.9651401042938232, 0.8616272211074829, 0.9554120302200317, 0.9650099873542786, 0.7210739850997925, 0.6054695248603821, 0.9619308114051819, 1.01643705368042, 0.9649966955184937, 0.6054656505584717, 0.8616594672203064, 0.7294576168060303, 0.9248761534690857, 0.8616454005241394, 0.6054664254188538, 0.9334158301353455, 0.6054839491844177, 0.9619003534317017, 0.9651288986206055, 0.9651269316673279, 0.6055036187171936, 0.6054437160491943, 0.6054502129554749, 0.7294604182243347, 0.4572018086910248, 0.4572018086910248, 1.0065313577651978, 0.9619240164756775, 0.9828425049781799, 0.8616482019424438, 0.96500563621521, 0.729459285736084, 0.9619048237800598, 0.4571944773197174, 0.4571944773197174, 0.5059139132499695, 0.5059139132499695, 0.9619048237800598, 0.8616228103637695, 0.4571967124938965, 0.4571967124938965, 0.7704675197601318, 0.25682249665260315, 0.841804563999176, 0.9649995565414429, 0.8616591691970825, 0.6055110692977905, 0.964992880821228, 0.9828255772590637, 0.965012788772583, 0.7294581532478333, 0.9619041681289673, 0.8616780638694763, 0.605478048324585, 0.8616585731506348, 0.6055107116699219, 0.8616237640380859, 1.0164518356323242, 0.8616549968719482, 0.3461695611476898, 0.6923391222953796, 0.9721168279647827, 0.9055336117744446, 0.9619365334510803, 0.8979266881942749, 0.7294589877128601, 0.9776635766029358, 0.9619266390800476, 0.8616487979888916, 0.8616653084754944, 0.605465292930603, 1.0164599418640137, 1.0164165496826172, 0.7294604182243347, 0.8616752028465271, 0.6658328175544739, 0.33291640877723694, 0.4571962356567383, 0.4571962356567383, 0.8979814648628235, 0.9138379096984863, 0.07029522210359573, 0.9619173407554626, 0.7294588685035706, 1.01638925075531, 0.7294602394104004, 0.965004026889801, 0.9618951678276062, 0.9619101285934448, 0.6054838299751282, 0.7593635320663452, 0.7160105109214783, 0.35800525546073914], \"Term\": [\"'cause\", \"alone\", \"alone\", \"auditorium\", \"behind\", \"bennie\", \"beyond\", \"blues\", \"boot\", \"boulevard\", \"breathe\", \"brick\", \"bring\", \"burning\", \"candy\", \"chevy\", \"choose\", \"closer\", \"count\", \"couple\", \"crocodile\", \"daddy\", \"dancer\", \"decide\", \"dress\", \"electric\", \"family\", \"finally\", \"found\", \"freak\", \"freedom\", \"friend\", \"future\", \"going\", \"goodbye\", \"guess\", \"headlight\", \"highway\", \"horny\", \"howling\", \"hunting\", \"jesus\", \"know\", \"know\", \"lalalala\", \"lawdy\", \"light\", \"listen\", \"living\", \"looking\", \"magazine\", \"make\", \"make\", \"maybe\", \"maybe\", \"mohair\", \"mongrel\", \"music\", \"music\", \"never\", \"never\", \"night\", \"others\", \"penny\", \"penthouse\", \"people\", \"philadelphia\", \"piece\", \"pirate\", \"place\", \"plane\", \"plant\", \"plenty\", \"plough\", \"present\", \"really\", \"replacement\", \"right\", \"right\", \"rock\", \"rocket\", \"ronnie\", \"round\", \"sheet\", \"shine\", \"shock\", \"shoot\", \"singing\", \"society\", \"something\", \"space\", \"stand\", \"stay\", \"stone\", \"stone\", \"street\", \"street\", \"suzie\", \"think\", \"think\", \"tight\", \"today\", \"touch\", \"turning\", \"wave\", \"weird\", \"wonderful\", \"woods\", \"yellow\", \"young\", \"young\"]}, \"R\": 30, \"lambda.step\": 0.01, \"plot.opts\": {\"xlab\": \"PC1\", \"ylab\": \"PC2\"}, \"topic.order\": [1, 2, 3]};\n",
       "\n",
       "function LDAvis_load_lib(url, callback){\n",
       "  var s = document.createElement('script');\n",
       "  s.src = url;\n",
       "  s.async = true;\n",
       "  s.onreadystatechange = s.onload = callback;\n",
       "  s.onerror = function(){console.warn(\"failed to load library \" + url);};\n",
       "  document.getElementsByTagName(\"head\")[0].appendChild(s);\n",
       "}\n",
       "\n",
       "if(typeof(LDAvis) !== \"undefined\"){\n",
       "   // already loaded: just create the visualization\n",
       "   !function(LDAvis){\n",
       "       new LDAvis(\"#\" + \"ldavis_el115521123205223047854280180\", ldavis_el115521123205223047854280180_data);\n",
       "   }(LDAvis);\n",
       "}else if(typeof define === \"function\" && define.amd){\n",
       "   // require.js is available: use it to load d3/LDAvis\n",
       "   require.config({paths: {d3: \"https://cdnjs.cloudflare.com/ajax/libs/d3/3.5.5/d3.min\"}});\n",
       "   require([\"d3\"], function(d3){\n",
       "      window.d3 = d3;\n",
       "      LDAvis_load_lib(\"https://cdn.rawgit.com/bmabey/pyLDAvis/files/ldavis.v1.0.0.js\", function(){\n",
       "        new LDAvis(\"#\" + \"ldavis_el115521123205223047854280180\", ldavis_el115521123205223047854280180_data);\n",
       "      });\n",
       "    });\n",
       "}else{\n",
       "    // require.js not available: dynamically load d3 & LDAvis\n",
       "    LDAvis_load_lib(\"https://cdnjs.cloudflare.com/ajax/libs/d3/3.5.5/d3.min.js\", function(){\n",
       "         LDAvis_load_lib(\"https://cdn.rawgit.com/bmabey/pyLDAvis/files/ldavis.v1.0.0.js\", function(){\n",
       "                 new LDAvis(\"#\" + \"ldavis_el115521123205223047854280180\", ldavis_el115521123205223047854280180_data);\n",
       "            })\n",
       "         });\n",
       "}\n",
       "</script>"
      ],
      "text/plain": [
       "<IPython.core.display.HTML object>"
      ]
     },
     "execution_count": 53,
     "metadata": {},
     "output_type": "execute_result"
    }
   ],
   "source": [
    "lda3 = gensim.models.ldamodel.LdaModel.load('model3.gensim')\n",
    "lda_display3 = pyLDAvis.gensim.prepare(lda3, corpus, dictionary, sort_topics=False)\n",
    "pyLDAvis.display(lda_display3)"
   ]
  },
  {
   "cell_type": "code",
   "execution_count": 32,
   "metadata": {},
   "outputs": [
    {
     "name": "stdout",
     "output_type": "stream",
     "text": [
      "(0, '0.152*\"shine\" + 0.135*\"freedom\" + 0.126*\"philadelphia\" + 0.126*\"light\"')\n",
      "(1, '0.009*\"think\" + 0.008*\"lalalala\" + 0.008*\"rocket\" + 0.008*\"crocodile\"')\n",
      "(2, '0.009*\"light\" + 0.009*\"shine\" + 0.008*\"philadelphia\" + 0.008*\"freedom\"')\n",
      "(3, '0.008*\"brick\" + 0.008*\"going\" + 0.008*\"yellow\" + 0.008*\"future\"')\n",
      "(4, '0.009*\"lalalala\" + 0.008*\"crocodile\" + 0.008*\"rock\" + 0.008*\"suzie\"')\n",
      "(5, '0.225*\"think\" + 0.141*\"rocket\" + 0.057*\"touch\" + 0.057*\"bring\"')\n",
      "(6, '0.008*\"yellow\" + 0.008*\"brick\" + 0.008*\"plough\" + 0.008*\"goodbye\"')\n",
      "(7, '0.108*\"lalalala\" + 0.087*\"crocodile\" + 0.058*\"rock\" + 0.051*\"never\"')\n",
      "(8, '0.057*\"yellow\" + 0.057*\"brick\" + 0.043*\"going\" + 0.029*\"beyond\"')\n",
      "(9, '0.008*\"lalalala\" + 0.008*\"crocodile\" + 0.008*\"rock\" + 0.008*\"suzie\"')\n"
     ]
    },
    {
     "name": "stderr",
     "output_type": "stream",
     "text": [
      "/Users/davidhaase/anaconda3/lib/python3.7/site-packages/smart_open/smart_open_lib.py:398: UserWarning: This function is deprecated, use smart_open.open instead. See the migration notes for details: https://github.com/RaRe-Technologies/smart_open/blob/master/README.rst#migrating-to-the-new-open-function\n",
      "  'See the migration notes for details: %s' % _MIGRATION_NOTES_URL\n",
      "/Users/davidhaase/anaconda3/lib/python3.7/site-packages/smart_open/smart_open_lib.py:398: UserWarning: This function is deprecated, use smart_open.open instead. See the migration notes for details: https://github.com/RaRe-Technologies/smart_open/blob/master/README.rst#migrating-to-the-new-open-function\n",
      "  'See the migration notes for details: %s' % _MIGRATION_NOTES_URL\n"
     ]
    }
   ],
   "source": [
    "ldamodel = gensim.models.ldamodel.LdaModel(corpus, num_topics = 10, id2word=dictionary, passes=15)\n",
    "ldamodel.save('model10.gensim')\n",
    "topics = ldamodel.print_topics(num_words=4)\n",
    "for topic in topics:\n",
    "    print(topic)"
   ]
  },
  {
   "cell_type": "code",
   "execution_count": 40,
   "metadata": {},
   "outputs": [
    {
     "name": "stderr",
     "output_type": "stream",
     "text": [
      "/Users/davidhaase/anaconda3/lib/python3.7/site-packages/smart_open/smart_open_lib.py:398: UserWarning: This function is deprecated, use smart_open.open instead. See the migration notes for details: https://github.com/RaRe-Technologies/smart_open/blob/master/README.rst#migrating-to-the-new-open-function\n",
      "  'See the migration notes for details: %s' % _MIGRATION_NOTES_URL\n",
      "/Users/davidhaase/anaconda3/lib/python3.7/site-packages/pyLDAvis/_prepare.py:257: FutureWarning: Sorting because non-concatenation axis is not aligned. A future version\n",
      "of pandas will change to not sort by default.\n",
      "\n",
      "To accept the future behavior, pass 'sort=False'.\n",
      "\n",
      "To retain the current behavior and silence the warning, pass 'sort=True'.\n",
      "\n",
      "  return pd.concat([default_term_info] + list(topic_dfs))\n"
     ]
    },
    {
     "data": {
      "text/html": [
       "\n",
       "<link rel=\"stylesheet\" type=\"text/css\" href=\"https://cdn.rawgit.com/bmabey/pyLDAvis/files/ldavis.v1.0.0.css\">\n",
       "\n",
       "\n",
       "<div id=\"ldavis_el115521123205221843212574217\"></div>\n",
       "<script type=\"text/javascript\">\n",
       "\n",
       "var ldavis_el115521123205221843212574217_data = {\"mdsDat\": {\"x\": [0.3312555908831967, -0.004099968741569871, -0.001233628611672073, -0.0032193976356713785, -0.0038331322981459835, -0.115404717592456, -0.0032980601816609474, -0.12916673031239653, -0.06785365049156264, -0.003146305018061192], \"y\": [-0.03127690315452976, 0.00046098708354995195, -0.00021725188232107434, 0.0010692400159075367, -0.0007517306373849465, 0.07736157141774486, 0.0013083100817968042, -0.2608503107142946, 0.21215997245821264, 0.0007361153313187442], \"topics\": [1, 2, 3, 4, 5, 6, 7, 8, 9, 10], \"cluster\": [1, 1, 1, 1, 1, 1, 1, 1, 1, 1], \"Freq\": [30.14284324645996, 0.11189496517181396, 0.11189496517181396, 0.11189496517181396, 0.11189496517181396, 16.547212600708008, 0.11189496517181396, 35.80815505981445, 16.830413818359375, 0.11189496517181396]}, \"tinfo\": {\"Category\": [\"Default\", \"Default\", \"Default\", \"Default\", \"Default\", \"Default\", \"Default\", \"Default\", \"Default\", \"Default\", \"Default\", \"Default\", \"Default\", \"Default\", \"Default\", \"Default\", \"Default\", \"Default\", \"Default\", \"Default\", \"Default\", \"Default\", \"Default\", \"Default\", \"Default\", \"Default\", \"Default\", \"Default\", \"Default\", \"Default\", \"Topic1\", \"Topic1\", \"Topic1\", \"Topic1\", \"Topic1\", \"Topic1\", \"Topic1\", \"Topic1\", \"Topic1\", \"Topic1\", \"Topic1\", \"Topic1\", \"Topic1\", \"Topic1\", \"Topic1\", \"Topic1\", \"Topic1\", \"Topic1\", \"Topic1\", \"Topic1\", \"Topic1\", \"Topic1\", \"Topic1\", \"Topic1\", \"Topic1\", \"Topic1\", \"Topic1\", \"Topic1\", \"Topic1\", \"Topic1\", \"Topic1\", \"Topic2\", \"Topic2\", \"Topic2\", \"Topic2\", \"Topic2\", \"Topic2\", \"Topic2\", \"Topic2\", \"Topic2\", \"Topic2\", \"Topic2\", \"Topic2\", \"Topic2\", \"Topic2\", \"Topic2\", \"Topic2\", \"Topic2\", \"Topic2\", \"Topic2\", \"Topic2\", \"Topic2\", \"Topic2\", \"Topic2\", \"Topic2\", \"Topic2\", \"Topic2\", \"Topic2\", \"Topic2\", \"Topic2\", \"Topic2\", \"Topic2\", \"Topic2\", \"Topic2\", \"Topic2\", \"Topic2\", \"Topic2\", \"Topic2\", \"Topic2\", \"Topic2\", \"Topic2\", \"Topic2\", \"Topic2\", \"Topic2\", \"Topic2\", \"Topic2\", \"Topic2\", \"Topic2\", \"Topic2\", \"Topic2\", \"Topic2\", \"Topic2\", \"Topic2\", \"Topic2\", \"Topic2\", \"Topic2\", \"Topic2\", \"Topic2\", \"Topic2\", \"Topic2\", \"Topic2\", \"Topic2\", \"Topic2\", \"Topic2\", \"Topic2\", \"Topic2\", \"Topic2\", \"Topic2\", \"Topic2\", \"Topic2\", \"Topic2\", \"Topic2\", \"Topic2\", \"Topic2\", \"Topic3\", \"Topic3\", \"Topic3\", \"Topic3\", \"Topic3\", \"Topic3\", \"Topic3\", \"Topic3\", \"Topic3\", \"Topic3\", \"Topic3\", \"Topic3\", \"Topic3\", \"Topic3\", \"Topic3\", \"Topic3\", \"Topic3\", \"Topic3\", \"Topic3\", \"Topic3\", \"Topic3\", \"Topic3\", \"Topic3\", \"Topic3\", \"Topic3\", \"Topic3\", \"Topic3\", \"Topic3\", \"Topic3\", \"Topic3\", \"Topic3\", \"Topic3\", \"Topic3\", \"Topic3\", \"Topic3\", \"Topic3\", \"Topic3\", \"Topic3\", \"Topic3\", \"Topic3\", \"Topic3\", \"Topic3\", \"Topic3\", \"Topic3\", \"Topic3\", \"Topic3\", \"Topic3\", \"Topic3\", \"Topic3\", \"Topic3\", \"Topic3\", \"Topic3\", \"Topic3\", \"Topic3\", \"Topic3\", \"Topic3\", \"Topic3\", \"Topic3\", \"Topic3\", \"Topic3\", \"Topic3\", \"Topic3\", \"Topic3\", \"Topic3\", \"Topic3\", \"Topic3\", \"Topic3\", \"Topic3\", \"Topic3\", \"Topic3\", \"Topic3\", \"Topic3\", \"Topic3\", \"Topic3\", \"Topic3\", \"Topic3\", \"Topic3\", \"Topic3\", \"Topic3\", \"Topic3\", \"Topic3\", \"Topic3\", \"Topic3\", \"Topic4\", \"Topic4\", \"Topic4\", \"Topic4\", \"Topic4\", \"Topic4\", \"Topic4\", \"Topic4\", \"Topic4\", \"Topic4\", \"Topic4\", \"Topic4\", \"Topic4\", \"Topic4\", \"Topic4\", \"Topic4\", \"Topic4\", \"Topic4\", \"Topic4\", \"Topic4\", \"Topic4\", \"Topic4\", \"Topic4\", \"Topic4\", \"Topic4\", \"Topic4\", \"Topic4\", \"Topic4\", \"Topic4\", \"Topic4\", \"Topic4\", \"Topic4\", \"Topic4\", \"Topic4\", \"Topic4\", \"Topic4\", \"Topic4\", \"Topic4\", \"Topic4\", \"Topic4\", \"Topic4\", \"Topic4\", \"Topic4\", \"Topic4\", \"Topic4\", \"Topic4\", \"Topic4\", \"Topic5\", \"Topic5\", \"Topic5\", \"Topic5\", \"Topic5\", \"Topic5\", \"Topic5\", \"Topic5\", \"Topic5\", \"Topic5\", \"Topic5\", \"Topic5\", \"Topic5\", \"Topic5\", \"Topic5\", \"Topic5\", \"Topic5\", \"Topic5\", \"Topic5\", \"Topic5\", \"Topic5\", \"Topic5\", \"Topic5\", \"Topic5\", \"Topic5\", \"Topic5\", \"Topic5\", \"Topic5\", \"Topic5\", \"Topic5\", \"Topic5\", \"Topic5\", \"Topic5\", \"Topic5\", \"Topic5\", \"Topic5\", \"Topic5\", \"Topic5\", \"Topic5\", \"Topic5\", \"Topic5\", \"Topic5\", \"Topic5\", \"Topic5\", \"Topic5\", \"Topic5\", \"Topic5\", \"Topic5\", \"Topic5\", \"Topic5\", \"Topic5\", \"Topic5\", \"Topic5\", \"Topic5\", \"Topic5\", \"Topic5\", \"Topic5\", \"Topic5\", \"Topic5\", \"Topic5\", \"Topic5\", \"Topic5\", \"Topic5\", \"Topic5\", \"Topic5\", \"Topic5\", \"Topic5\", \"Topic5\", \"Topic5\", \"Topic5\", \"Topic5\", \"Topic5\", \"Topic5\", \"Topic6\", \"Topic6\", \"Topic6\", \"Topic6\", \"Topic6\", \"Topic6\", \"Topic6\", \"Topic6\", \"Topic6\", \"Topic6\", \"Topic6\", \"Topic6\", \"Topic6\", \"Topic6\", \"Topic6\", \"Topic6\", \"Topic6\", \"Topic6\", \"Topic6\", \"Topic6\", \"Topic6\", \"Topic6\", \"Topic6\", \"Topic6\", \"Topic6\", \"Topic6\", \"Topic6\", \"Topic6\", \"Topic6\", \"Topic6\", \"Topic6\", \"Topic6\", \"Topic6\", \"Topic6\", \"Topic6\", \"Topic6\", \"Topic6\", \"Topic6\", \"Topic6\", \"Topic6\", \"Topic6\", \"Topic6\", \"Topic7\", \"Topic7\", \"Topic7\", \"Topic7\", \"Topic7\", \"Topic7\", \"Topic7\", \"Topic7\", \"Topic7\", \"Topic7\", \"Topic7\", \"Topic7\", \"Topic7\", \"Topic7\", \"Topic7\", \"Topic7\", \"Topic7\", \"Topic7\", \"Topic7\", \"Topic7\", \"Topic7\", \"Topic7\", \"Topic7\", \"Topic7\", \"Topic7\", \"Topic7\", \"Topic7\", \"Topic7\", \"Topic7\", \"Topic7\", \"Topic7\", \"Topic7\", \"Topic7\", \"Topic7\", \"Topic7\", \"Topic7\", \"Topic7\", \"Topic7\", \"Topic7\", \"Topic7\", \"Topic7\", \"Topic7\", \"Topic7\", \"Topic7\", \"Topic7\", \"Topic7\", \"Topic7\", \"Topic8\", \"Topic8\", \"Topic8\", \"Topic8\", \"Topic8\", \"Topic8\", \"Topic8\", \"Topic8\", \"Topic8\", \"Topic8\", \"Topic8\", \"Topic8\", \"Topic8\", \"Topic8\", \"Topic8\", \"Topic8\", \"Topic8\", \"Topic8\", \"Topic8\", \"Topic8\", \"Topic8\", \"Topic8\", \"Topic8\", \"Topic8\", \"Topic8\", \"Topic8\", \"Topic8\", \"Topic8\", \"Topic8\", \"Topic8\", \"Topic8\", \"Topic8\", \"Topic8\", \"Topic8\", \"Topic8\", \"Topic8\", \"Topic9\", \"Topic9\", \"Topic9\", \"Topic9\", \"Topic9\", \"Topic9\", \"Topic9\", \"Topic9\", \"Topic9\", \"Topic9\", \"Topic9\", \"Topic9\", \"Topic9\", \"Topic9\", \"Topic9\", \"Topic9\", \"Topic9\", \"Topic9\", \"Topic9\", \"Topic9\", \"Topic9\", \"Topic9\", \"Topic9\", \"Topic9\", \"Topic9\", \"Topic9\", \"Topic9\", \"Topic9\", \"Topic9\", \"Topic9\", \"Topic9\", \"Topic9\", \"Topic9\", \"Topic10\", \"Topic10\", \"Topic10\", \"Topic10\", \"Topic10\", \"Topic10\", \"Topic10\", \"Topic10\", \"Topic10\", \"Topic10\", \"Topic10\", \"Topic10\", \"Topic10\", \"Topic10\", \"Topic10\", \"Topic10\", \"Topic10\", \"Topic10\", \"Topic10\", \"Topic10\", \"Topic10\", \"Topic10\", \"Topic10\", \"Topic10\", \"Topic10\", \"Topic10\", \"Topic10\", \"Topic10\", \"Topic10\", \"Topic10\", \"Topic10\", \"Topic10\", \"Topic10\", \"Topic10\", \"Topic10\", \"Topic10\", \"Topic10\", \"Topic10\", \"Topic10\", \"Topic10\", \"Topic10\", \"Topic10\", \"Topic10\", \"Topic10\", \"Topic10\", \"Topic10\", \"Topic10\", \"Topic10\", \"Topic10\", \"Topic10\", \"Topic10\", \"Topic10\", \"Topic10\", \"Topic10\", \"Topic10\", \"Topic10\", \"Topic10\", \"Topic10\", \"Topic10\", \"Topic10\", \"Topic10\", \"Topic10\"], \"Freq\": [16.0, 14.0, 14.0, 13.0, 13.0, 13.0, 11.0, 8.0, 7.0, 8.0, 5.0, 5.0, 4.0, 3.0, 4.0, 4.0, 3.0, 3.0, 3.0, 3.0, 3.0, 3.0, 3.0, 3.0, 3.0, 3.0, 3.0, 3.0, 3.0, 3.0, 16.125865936279297, 14.343835830688477, 13.452530860900879, 13.45175838470459, 3.6524930000305176, 2.7620012760162354, 1.8711268901824951, 1.87106192111969, 1.8710486888885498, 1.8709933757781982, 1.8709436655044556, 1.8709309101104736, 1.8708603382110596, 1.8708040714263916, 1.8707773685455322, 1.8707178831100464, 0.9800697565078735, 0.9800513386726379, 0.9800369739532471, 0.9800103902816772, 0.9799962639808655, 0.9799871444702148, 0.9799749255180359, 0.9799410700798035, 0.9799167513847351, 0.9799134731292725, 0.9798831939697266, 0.9798570871353149, 0.9805052280426025, 1.8728501796722412, 0.9799436926841736, 0.003186196554452181, 0.0031850917730480433, 0.003184986300766468, 0.0031837320420891047, 0.0031829921063035727, 0.003182339482009411, 0.0031809541396796703, 0.0031718583777546883, 0.0031718583777546883, 0.0031718583777546883, 0.0031718583777546883, 0.0031718583777546883, 0.0031718583777546883, 0.0031718583777546883, 0.0031718583777546883, 0.0031718583777546883, 0.0031718583777546883, 0.0031718583777546883, 0.0031718583777546883, 0.0031718583777546883, 0.0031718583777546883, 0.0031718583777546883, 0.0031718583777546883, 0.0031718583777546883, 0.0031718583777546883, 0.0031718583777546883, 0.0031718583777546883, 0.0031718583777546883, 0.0031718583777546883, 0.0031718583777546883, 0.0031815532129257917, 0.0031808223575353622, 0.0031802367884665728, 0.003180211642757058, 0.0031795608811080456, 0.0031795550603419542, 0.003179229563102126, 0.0031785883475095034, 0.003411846235394478, 0.003178431186825037, 0.0031783683225512505, 0.003178304061293602, 0.0031778234988451004, 0.0031775974202901125, 0.0032789309043437243, 0.0032924760598689318, 0.0032466035336256027, 0.0032373417634516954, 0.003232488175854087, 0.0032562341075390577, 0.003218946047127247, 0.0031978271435946226, 0.00321473041549325, 0.0031953102443367243, 0.0032264876645058393, 0.003217068500816822, 0.003214533906430006, 0.0032118596136569977, 0.00320209888741374, 0.0031998087652027607, 0.0031982064247131348, 0.0031952722929418087, 0.0031935651786625385, 0.003193048294633627, 0.0031929442193359137, 0.003192122792825103, 0.0031918880995362997, 0.0031918229069560766, 0.0031892110127955675, 0.003188491566106677, 0.0031881441827863455, 0.0031880210153758526, 0.0031871660612523556, 0.003167912131175399, 0.003167912131175399, 0.003167912131175399, 0.003167912131175399, 0.003167912131175399, 0.003167912131175399, 0.003167912131175399, 0.003167912131175399, 0.003167912131175399, 0.003167912131175399, 0.003167912131175399, 0.003167912131175399, 0.003167912131175399, 0.003167912131175399, 0.003167912131175399, 0.003167912131175399, 0.003167912131175399, 0.003167912131175399, 0.003167912131175399, 0.003167912131175399, 0.003167912131175399, 0.003167912131175399, 0.003167912131175399, 0.003167912131175399, 0.003167912131175399, 0.003167912131175399, 0.003167912131175399, 0.003167912131175399, 0.0031849921215325594, 0.003184068715199828, 0.003182986518368125, 0.0031828712671995163, 0.003182011190801859, 0.0031808034982532263, 0.0031803702004253864, 0.0031800451688468456, 0.0031795459799468517, 0.0031786004547029734, 0.0031780910212546587, 0.00317743350751698, 0.0031762535218149424, 0.0031756891403347254, 0.003175414400175214, 0.0031753757502883673, 0.0031753326766192913, 0.003175176680088043, 0.003174985060468316, 0.0031748961191624403, 0.00337613676674664, 0.00336175668053329, 0.0033487221226096153, 0.003346196375787258, 0.003174341982230544, 0.0031736851669847965, 0.0031735184602439404, 0.0031734949443489313, 0.003173317527398467, 0.003276351373642683, 0.003223058534786105, 0.003251957008615136, 0.00319838454015553, 0.0031962813809514046, 0.0031953309662640095, 0.0031933237332850695, 0.003233725670725107, 0.003233738010749221, 0.0032135588116943836, 0.003196652978658676, 0.00319614983163774, 0.003193963086232543, 0.0031937509775161743, 0.003193473909050226, 0.0031918806489557028, 0.0031908154487609863, 0.003190367016941309, 0.003190112067386508, 0.0031898533925414085, 0.003189772367477417, 0.0031888431403785944, 0.0031885949429124594, 0.003188003785908222, 0.003186632413417101, 0.003186158835887909, 0.003192970296368003, 0.0031910378020256758, 0.0031911430414766073, 0.0031909861136227846, 0.003190726274624467, 0.0031903348863124847, 0.003190235933288932, 0.003190203569829464, 0.0031900748144835234, 0.0031896617729216814, 0.003189461538568139, 0.0031896529253572226, 0.003189335111528635, 0.0031889008823782206, 0.003181698266416788, 0.003189073409885168, 0.003181698266416788, 0.003181698266416788, 0.003181698266416788, 0.003181698266416788, 0.003181698266416788, 0.003181698266416788, 0.0031883649062365294, 0.003188441274687648, 0.0031879849266260862, 0.0031877353321760893, 0.0031878382433205843, 0.0031875590793788433, 0.003181698266416788, 0.003181698266416788, 0.0032020865473896265, 0.0032009794376790524, 0.0031999305356293917, 0.003212742507457733, 0.0032063708640635014, 0.003206348977982998, 0.003198475344106555, 0.003197301412001252, 0.0031967354007065296, 0.0031965726520866156, 0.0031963034998625517, 0.0031953658908605576, 0.003194670658558607, 0.0031945426017045975, 0.0031939116306602955, 0.0031922454945743084, 0.003189236856997013, 0.0031717983074486256, 0.0031717983074486256, 0.0031717983074486256, 0.0031717983074486256, 0.0031717983074486256, 0.0031717983074486256, 0.0031717983074486256, 0.0031717983074486256, 0.0031717983074486256, 0.0031717983074486256, 0.0031717983074486256, 0.0031717983074486256, 0.0031717983074486256, 0.0031717983074486256, 0.0031717983074486256, 0.0031717983074486256, 0.0031717983074486256, 0.0031717983074486256, 0.0031717983074486256, 0.0031717983074486256, 0.0031717983074486256, 0.0031717983074486256, 0.0031717983074486256, 0.0031717983074486256, 0.0031717983074486256, 0.0031717983074486256, 0.0031717983074486256, 0.0031717983074486256, 0.0031717983074486256, 0.0031717983074486256, 0.0031872300896793604, 0.003186860354617238, 0.0031868177466094494, 0.0031860419549047947, 0.0031859679147601128, 0.003185792826116085, 0.003185155801475048, 0.003184611676260829, 0.0031842589378356934, 0.0031840247102081776, 0.0031839939765632153, 0.0031838451977819204, 0.003183116437867284, 0.0033830441534519196, 0.0033461234997957945, 0.003293895162642002, 0.0032622807193547487, 0.003258694428950548, 0.0032248557545244694, 0.0032052304595708847, 0.003204204374924302, 0.0032035273034125566, 0.003203344764187932, 0.00321417348459363, 0.0032127653248608112, 0.0032011051662266254, 0.0032005691900849342, 0.003210820723325014, 0.003209848655387759, 0.00319827813655138, 0.0032094104681164026, 0.0032077825162559748, 0.003206890542060137, 0.003206102643162012, 0.0032050516456365585, 0.003201474901288748, 0.003200443694368005, 0.003196681383997202, 0.003195962868630886, 0.0031958906911313534, 0.003195506287738681, 0.0031928338576108217, 0.0031895888969302177, 8.261751174926758, 13.168071746826172, 3.353790760040283, 3.3536815643310547, 1.7177520990371704, 1.7176871299743652, 0.8998509049415588, 0.8998152017593384, 0.8997983336448669, 0.899779200553894, 0.8997469544410706, 0.8997441530227661, 0.8997156023979187, 3.3533341884613037, 3.35343337059021, 3.3534090518951416, 0.8997454643249512, 0.8997309803962708, 0.08201465010643005, 0.0820065438747406, 0.0819685161113739, 0.08197104930877686, 0.08195200562477112, 0.08196784555912018, 0.08195024728775024, 0.08196089416742325, 0.08195161819458008, 0.08195701986551285, 0.08195246756076813, 0.08195249736309052, 0.08235996961593628, 0.0822184756398201, 0.08220231533050537, 0.08219734579324722, 0.08209437876939774, 0.08207317441701889, 0.0820726826786995, 0.08207140117883682, 0.08207029104232788, 0.08206098526716232, 0.08205511420965195, 0.08205436915159225, 0.0031982462387531996, 0.003198028774932027, 0.003197172423824668, 0.003195054130628705, 0.003194593358784914, 0.003194307442754507, 0.003193628042936325, 0.003193560754880309, 0.0031932697165757418, 0.003193170065060258, 0.0031930420082062483, 0.0031929269898682833, 0.003192247124388814, 0.0031919674947857857, 0.003191906027495861, 0.0031913723796606064, 0.003191440599039197, 0.003190872725099325, 0.0031907870434224606, 0.003189757000654936, 0.003189199371263385, 0.003178606741130352, 0.003178606741130352, 0.003178606741130352, 0.003178606741130352, 0.003178606741130352, 0.003178606741130352, 0.003178606741130352, 0.003178606741130352, 0.003178606741130352, 0.0032168736215680838, 0.003215450793504715, 0.0032350646797567606, 0.0032317216973751783, 0.0032099648378789425, 0.00320948357693851, 0.003208474488928914, 0.003207454225048423, 0.0032065524719655514, 0.0032124039717018604, 0.0032052090391516685, 0.0032044502440840006, 0.0032037917990237474, 0.0032032933086156845, 0.0032007358968257904, 0.003196230623871088, 0.0031923726201057434, 13.689728736877441, 10.97079849243164, 7.343749046325684, 5.530365943908691, 2.8110053539276123, 2.810724973678589, 2.811077356338501, 2.810959577560425, 2.8108580112457275, 2.810814380645752, 2.8102519512176514, 2.810753583908081, 2.8111014366149902, 2.8109700679779053, 2.8108599185943604, 1.904151439666748, 1.9042140245437622, 1.904333472251892, 1.904178261756897, 1.9044326543807983, 1.9038718938827515, 1.9040778875350952, 1.904103398323059, 1.9038714170455933, 1.903964638710022, 0.997593343257904, 0.9975321292877197, 0.9974008798599243, 0.997506320476532, 0.9974576234817505, 3.7182517051696777, 6.43773889541626, 1.904188871383667, 1.9042189121246338, 1.9041262865066528, 1.9044419527053833, 3.364276647567749, 3.364039897918701, 2.543684959411621, 1.723270297050476, 1.7231463193893433, 1.7231121063232422, 1.7232166528701782, 1.7231394052505493, 1.7231976985931396, 1.7231355905532837, 1.7231050729751587, 1.723013997077942, 1.722888469696045, 1.7230340242385864, 1.7228448390960693, 1.722812533378601, 0.90265953540802, 0.902671217918396, 0.902641236782074, 0.9026212692260742, 0.9026771783828735, 0.9025534987449646, 0.9025638103485107, 0.9025542736053467, 0.9025804400444031, 0.902624785900116, 0.9025453329086304, 0.9025789499282837, 0.9025852084159851, 0.9026148915290833, 0.9025557637214661, 0.9026046991348267, 0.9026033878326416, 0.0031849707011133432, 0.0031849707011133432, 0.0031849707011133432, 0.0031849707011133432, 0.0031849707011133432, 0.0031849707011133432, 0.0031849707011133432, 0.0031849707011133432, 0.0031849707011133432, 0.0031849707011133432, 0.0031849707011133432, 0.0031849707011133432, 0.0031849707011133432, 0.0031849707011133432, 0.0031849707011133432, 0.0031849707011133432, 0.0031849707011133432, 0.0031849707011133432, 0.0031849707011133432, 0.0031849707011133432, 0.0031849707011133432, 0.0031849707011133432, 0.0031849707011133432, 0.0031849707011133432, 0.0031849707011133432, 0.0031849707011133432, 0.0031849707011133432, 0.0031849707011133432, 0.0031849707011133432, 0.0031849707011133432, 0.003185509704053402, 0.0031855010893195868, 0.003191207768395543, 0.0031889122910797596, 0.003188044298440218, 0.0031877304427325726, 0.003187670838087797, 0.0031870657112449408, 0.0031865150667726994, 0.003186481539160013, 0.0031862740870565176, 0.0031862473115324974, 0.0031862088944762945, 0.0031860952731221914, 0.003186093410477042, 0.0031860913150012493, 0.003186088055372238, 0.00318607478402555, 0.003186057321727276, 0.003186032408848405, 0.0031860158778727055, 0.003186011454090476, 0.0031860044691711664, 0.0031859157606959343, 0.0031858524307608604, 0.003185851499438286, 0.003185831243172288, 0.0031858296133577824, 0.003185807727277279, 0.0031857755966484547, 0.0031857278663665056, 0.003185679903253913], \"Term\": [\"shine\", \"think\", \"freedom\", \"light\", \"philadelphia\", \"lalalala\", \"crocodile\", \"rocket\", \"rock\", \"never\", \"suzie\", \"round\", \"night\", \"choose\", \"burning\", \"alone\", \"brick\", \"yellow\", \"bring\", \"touch\", \"something\", \"better\", \"shock\", \"lawdy\", \"guess\", \"sight\", \"tight\", \"dress\", \"chevy\", \"still\", \"shine\", \"freedom\", \"philadelphia\", \"light\", \"choose\", \"behind\", \"piece\", \"others\", \"people\", \"'cause\", \"breathe\", \"daddy\", \"right\", \"living\", \"family\", \"wave\", \"answer\", \"beating\", \"rolling\", \"cause\", \"times\", \"zap\", \"whippoorwill\", \"leave\", \"without\", \"change\", \"heart\", \"someone\", \"stone\", \"never\", \"alone\", \"space\", \"understand\", \"timeless\", \"earth\", \"pack\", \"lonely\", \"science\", \"sniff\", \"plane\", \"ground\", \"shoot\", \"tidbit\", \"replacement\", \"stay\", \"listen\", \"couple\", \"found\", \"penny\", \"present\", \"blues\", \"tonic\", \"forever\", \"vodka\", \"friend\", \"maybe\", \"mongrel\", \"singing\", \"plenty\", \"someone\", \"heart\", \"jean\", \"crying\", \"week\", \"would\", \"learning\", \"years\", \"record\", \"dreaming\", \"think\", \"really\", \"foreign\", \"thrill\", \"thought\", \"machine\", \"rocket\", \"lalalala\", \"round\", \"burning\", \"alone\", \"crocodile\", \"bring\", \"raise\", \"touch\", \"flight\", \"rock\", \"suzie\", \"night\", \"never\", \"something\", \"place\", \"friday\", \"better\", \"tight\", \"shock\", \"lawdy\", \"guess\", \"dress\", \"sight\", \"still\", \"hands\", \"remember\", \"bop\", \"chevy\", \"space\", \"understand\", \"timeless\", \"earth\", \"pack\", \"lonely\", \"science\", \"sniff\", \"plane\", \"ground\", \"shoot\", \"tidbit\", \"replacement\", \"stay\", \"listen\", \"couple\", \"found\", \"penny\", \"present\", \"blues\", \"tonic\", \"forever\", \"vodka\", \"friend\", \"maybe\", \"mongrel\", \"singing\", \"plenty\", \"someone\", \"heart\", \"change\", \"without\", \"leave\", \"whippoorwill\", \"zap\", \"times\", \"cause\", \"rolling\", \"beating\", \"answer\", \"week\", \"learning\", \"years\", \"thought\", \"record\", \"crying\", \"foreign\", \"would\", \"light\", \"shine\", \"philadelphia\", \"freedom\", \"jean\", \"thrill\", \"dreaming\", \"machine\", \"really\", \"lalalala\", \"choose\", \"crocodile\", \"wave\", \"family\", \"living\", \"right\", \"rock\", \"never\", \"suzie\", \"behind\", \"sight\", \"night\", \"lawdy\", \"stone\", \"shock\", \"daddy\", \"breathe\", \"better\", \"chevy\", \"guess\", \"tight\", \"'cause\", \"something\", \"people\", \"others\", \"couple\", \"shoot\", \"replacement\", \"tidbit\", \"listen\", \"plane\", \"found\", \"tonic\", \"present\", \"sniff\", \"stay\", \"singing\", \"penny\", \"ground\", \"space\", \"maybe\", \"understand\", \"timeless\", \"earth\", \"pack\", \"lonely\", \"science\", \"blues\", \"friend\", \"vodka\", \"forever\", \"plenty\", \"mongrel\", \"someone\", \"heart\", \"future\", \"howling\", \"decide\", \"brick\", \"going\", \"yellow\", \"woods\", \"society\", \"beyond\", \"goodbye\", \"hunting\", \"horny\", \"finally\", \"plant\", \"plough\", \"penthouse\", \"think\", \"space\", \"understand\", \"timeless\", \"earth\", \"pack\", \"lonely\", \"science\", \"sniff\", \"plane\", \"ground\", \"shoot\", \"tidbit\", \"replacement\", \"stay\", \"listen\", \"couple\", \"found\", \"penny\", \"present\", \"blues\", \"tonic\", \"forever\", \"vodka\", \"friend\", \"maybe\", \"mongrel\", \"singing\", \"plenty\", \"someone\", \"heart\", \"thought\", \"record\", \"learning\", \"jean\", \"thrill\", \"years\", \"week\", \"would\", \"dreaming\", \"machine\", \"foreign\", \"really\", \"crying\", \"lalalala\", \"crocodile\", \"rock\", \"suzie\", \"never\", \"something\", \"hop\", \"bop\", \"skimming\", \"big\", \"still\", \"better\", \"remember\", \"clock\", \"dress\", \"guess\", \"thing\", \"shock\", \"night\", \"chevy\", \"lawdy\", \"tight\", \"sight\", \"young\", \"place\", \"stone\", \"hands\", \"friday\", \"call\", \"holding\", \"rocket\", \"think\", \"touch\", \"bring\", \"flight\", \"raise\", \"science\", \"lonely\", \"pack\", \"earth\", \"timeless\", \"understand\", \"space\", \"alone\", \"burning\", \"round\", \"place\", \"night\", \"sniff\", \"ground\", \"replacement\", \"friend\", \"plane\", \"plenty\", \"shoot\", \"vodka\", \"tidbit\", \"tonic\", \"penny\", \"blues\", \"brick\", \"going\", \"yellow\", \"woods\", \"society\", \"hunting\", \"goodbye\", \"plant\", \"finally\", \"plough\", \"future\", \"howling\", \"ground\", \"sniff\", \"plane\", \"shoot\", \"stay\", \"tidbit\", \"blues\", \"penny\", \"listen\", \"found\", \"replacement\", \"forever\", \"present\", \"mongrel\", \"vodka\", \"tonic\", \"friend\", \"couple\", \"maybe\", \"plenty\", \"singing\", \"space\", \"understand\", \"timeless\", \"earth\", \"pack\", \"lonely\", \"science\", \"someone\", \"heart\", \"plough\", \"goodbye\", \"yellow\", \"brick\", \"woods\", \"penthouse\", \"horny\", \"plant\", \"society\", \"going\", \"howling\", \"hunting\", \"finally\", \"decide\", \"beyond\", \"future\", \"young\", \"lalalala\", \"crocodile\", \"rock\", \"suzie\", \"sight\", \"better\", \"still\", \"tight\", \"guess\", \"lawdy\", \"something\", \"shock\", \"friday\", \"chevy\", \"dress\", \"big\", \"thing\", \"call\", \"clock\", \"holding\", \"bop\", \"remember\", \"hands\", \"hop\", \"skimming\", \"machine\", \"dreaming\", \"thought\", \"really\", \"foreign\", \"night\", \"never\", \"place\", \"young\", \"stone\", \"round\", \"yellow\", \"brick\", \"going\", \"beyond\", \"decide\", \"horny\", \"future\", \"penthouse\", \"finally\", \"hunting\", \"plant\", \"howling\", \"plough\", \"society\", \"goodbye\", \"woods\", \"mongrel\", \"singing\", \"maybe\", \"forever\", \"plenty\", \"listen\", \"found\", \"couple\", \"present\", \"vodka\", \"stay\", \"blues\", \"tonic\", \"friend\", \"penny\", \"young\", \"think\", \"space\", \"understand\", \"timeless\", \"earth\", \"pack\", \"lonely\", \"science\", \"sniff\", \"plane\", \"ground\", \"shoot\", \"tidbit\", \"replacement\", \"stay\", \"listen\", \"couple\", \"found\", \"penny\", \"present\", \"blues\", \"tonic\", \"forever\", \"vodka\", \"friend\", \"maybe\", \"mongrel\", \"singing\", \"plenty\", \"someone\", \"heart\", \"dreaming\", \"week\", \"lalalala\", \"crocodile\", \"rock\", \"suzie\", \"never\", \"night\", \"tight\", \"chevy\", \"still\", \"something\", \"dress\", \"remember\", \"place\", \"friday\", \"better\", \"lawdy\", \"thing\", \"skimming\", \"bop\", \"shock\", \"guess\", \"sight\", \"big\", \"hands\", \"holding\", \"call\", \"round\", \"clock\", \"stone\", \"hop\"], \"Total\": [16.0, 14.0, 14.0, 13.0, 13.0, 13.0, 11.0, 8.0, 7.0, 8.0, 5.0, 5.0, 4.0, 3.0, 4.0, 4.0, 3.0, 3.0, 3.0, 3.0, 3.0, 3.0, 3.0, 3.0, 3.0, 3.0, 3.0, 3.0, 3.0, 3.0, 16.399831771850586, 14.61778450012207, 13.726481437683105, 13.725736618041992, 3.9263181686401367, 3.0358002185821533, 2.1449129581451416, 2.144850254058838, 2.1448373794555664, 2.1447842121124268, 2.1447362899780273, 2.144723892211914, 2.14465594291687, 2.144601583480835, 2.144575834274292, 2.1445183753967285, 1.2538491487503052, 1.253831386566162, 1.2538175582885742, 1.2537919282913208, 1.2537782192230225, 1.2537695169448853, 1.2537577152252197, 1.2537250518798828, 1.2537015676498413, 1.253698468208313, 1.253669261932373, 1.2536439895629883, 3.0677080154418945, 8.493814468383789, 4.525295257568359, 1.1807962656021118, 1.1808236837387085, 1.1808264255523682, 1.1808574199676514, 1.1808757781982422, 1.180891990661621, 1.1809263229370117, 1.1833617687225342, 1.1833664178848267, 1.183375358581543, 1.1834017038345337, 1.1834217309951782, 1.1834490299224854, 1.1834524869918823, 1.183453917503357, 1.1834577322006226, 1.1834685802459717, 1.1834810972213745, 1.1834954023361206, 1.18350350856781, 1.183513879776001, 1.1835365295410156, 1.1835556030273438, 1.1835558414459229, 1.1835564374923706, 1.1835647821426392, 1.1835815906524658, 1.1836127042770386, 1.2536439895629883, 1.253669261932373, 1.2697148323059082, 1.2697933912277222, 1.2697211503982544, 1.2697761058807373, 1.2697136402130127, 1.269751787185669, 1.269729733467102, 1.2698677778244019, 14.269886016845703, 1.269894003868103, 1.2698426246643066, 1.2698242664337158, 1.26975679397583, 1.269904375076294, 8.542924880981445, 13.965989112854004, 5.448671817779541, 4.541390419006348, 4.525295257568359, 11.2456693649292, 3.6347954273223877, 1.9987794160842896, 3.6349003314971924, 1.9988418817520142, 7.617671012878418, 5.80397367477417, 4.80901575088501, 8.493814468383789, 3.0830767154693604, 2.994709014892578, 3.0840494632720947, 3.083544969558716, 3.083827257156372, 3.083650588989258, 3.0836923122406006, 3.0837230682373047, 3.0838682651519775, 3.0837903022766113, 3.0839552879333496, 2.176746129989624, 2.176694631576538, 2.176435947418213, 3.0839240550994873, 1.1807962656021118, 1.1808236837387085, 1.1808264255523682, 1.1808574199676514, 1.1808757781982422, 1.180891990661621, 1.1809263229370117, 1.1833617687225342, 1.1833664178848267, 1.183375358581543, 1.1834017038345337, 1.1834217309951782, 1.1834490299224854, 1.1834524869918823, 1.183453917503357, 1.1834577322006226, 1.1834685802459717, 1.1834810972213745, 1.1834954023361206, 1.18350350856781, 1.183513879776001, 1.1835365295410156, 1.1835556030273438, 1.1835558414459229, 1.1835564374923706, 1.1835647821426392, 1.1835815906524658, 1.1836127042770386, 1.2536439895629883, 1.253669261932373, 1.253698468208313, 1.2537015676498413, 1.2537250518798828, 1.2537577152252197, 1.2537695169448853, 1.2537782192230225, 1.2537919282913208, 1.2538175582885742, 1.253831386566162, 1.2538491487503052, 1.2697211503982544, 1.2697136402130127, 1.269751787185669, 1.26975679397583, 1.269729733467102, 1.2697933912277222, 1.2698426246643066, 1.2697761058807373, 13.725736618041992, 16.399831771850586, 13.726481437683105, 14.61778450012207, 1.2697148323059082, 1.2698242664337158, 1.2698677778244019, 1.269904375076294, 1.269894003868103, 13.965989112854004, 3.9263181686401367, 11.2456693649292, 2.1445183753967285, 2.144575834274292, 2.144601583480835, 2.14465594291687, 7.617671012878418, 8.493814468383789, 5.80397367477417, 3.0358002185821533, 3.0837903022766113, 4.80901575088501, 3.0836923122406006, 3.0677080154418945, 3.083650588989258, 2.144723892211914, 2.1447362899780273, 3.083544969558716, 3.0839240550994873, 3.0837230682373047, 3.083827257156372, 2.1447842121124268, 3.0830767154693604, 2.1448373794555664, 2.144850254058838, 1.1834577322006226, 1.1834017038345337, 1.1834490299224854, 1.1834217309951782, 1.183453917503357, 1.1833664178848267, 1.1834685802459717, 1.183513879776001, 1.1834954023361206, 1.1833617687225342, 1.1834524869918823, 1.1835815906524658, 1.1834810972213745, 1.183375358581543, 1.1807962656021118, 1.1835564374923706, 1.1808236837387085, 1.1808264255523682, 1.1808574199676514, 1.1808757781982422, 1.180891990661621, 1.1809263229370117, 1.18350350856781, 1.1835558414459229, 1.1835556030273438, 1.1835365295410156, 1.1836127042770386, 1.1835647821426392, 1.2536439895629883, 1.253669261932373, 2.004260301589966, 2.0040647983551025, 2.004138469696045, 3.645434617996216, 2.8249123096466064, 3.64551043510437, 2.0040085315704346, 2.004122495651245, 2.004281520843506, 2.003919839859009, 2.004199743270874, 2.0041232109069824, 2.0042564868927, 2.004168748855591, 2.003950357437134, 2.0041754245758057, 14.269886016845703, 1.1807962656021118, 1.1808236837387085, 1.1808264255523682, 1.1808574199676514, 1.1808757781982422, 1.180891990661621, 1.1809263229370117, 1.1833617687225342, 1.1833664178848267, 1.183375358581543, 1.1834017038345337, 1.1834217309951782, 1.1834490299224854, 1.1834524869918823, 1.183453917503357, 1.1834577322006226, 1.1834685802459717, 1.1834810972213745, 1.1834954023361206, 1.18350350856781, 1.183513879776001, 1.1835365295410156, 1.1835556030273438, 1.1835558414459229, 1.1835564374923706, 1.1835647821426392, 1.1835815906524658, 1.1836127042770386, 1.2536439895629883, 1.253669261932373, 1.26975679397583, 1.269729733467102, 1.2697136402130127, 1.2697148323059082, 1.2698242664337158, 1.269751787185669, 1.2697211503982544, 1.2697761058807373, 1.2698677778244019, 1.269904375076294, 1.2698426246643066, 1.269894003868103, 1.2697933912277222, 13.965989112854004, 11.2456693649292, 7.617671012878418, 5.80397367477417, 8.493814468383789, 3.0830767154693604, 2.176555633544922, 2.176435947418213, 2.176678419113159, 2.176668405532837, 3.0839552879333496, 3.083544969558716, 2.176694631576538, 2.1767406463623047, 3.0838682651519775, 3.0837230682373047, 2.1767585277557373, 3.083650588989258, 4.80901575088501, 3.0839240550994873, 3.0836923122406006, 3.083827257156372, 3.0837903022766113, 2.997454881668091, 2.994709014892578, 3.0677080154418945, 2.176746129989624, 3.0840494632720947, 2.1769158840179443, 2.177069902420044, 8.542924880981445, 14.269886016845703, 3.6349003314971924, 3.6347954273223877, 1.9988418817520142, 1.9987794160842896, 1.1809263229370117, 1.180891990661621, 1.1808757781982422, 1.1808574199676514, 1.1808264255523682, 1.1808236837387085, 1.1807962656021118, 4.525295257568359, 4.541390419006348, 5.448671817779541, 2.994709014892578, 4.80901575088501, 1.1833617687225342, 1.183375358581543, 1.1834490299224854, 1.1835558414459229, 1.1833664178848267, 1.1836127042770386, 1.1834017038345337, 1.1835556030273438, 1.1834217309951782, 1.183513879776001, 1.1834810972213745, 1.18350350856781, 3.645434617996216, 2.8249123096466064, 3.64551043510437, 2.0040085315704346, 2.004122495651245, 2.004199743270874, 2.003919839859009, 2.004168748855591, 2.0042564868927, 2.003950357437134, 2.004260301589966, 2.0040647983551025, 1.183375358581543, 1.1833617687225342, 1.1833664178848267, 1.1834017038345337, 1.1834524869918823, 1.1834217309951782, 1.18350350856781, 1.1834810972213745, 1.183453917503357, 1.1834685802459717, 1.1834490299224854, 1.1835365295410156, 1.1834954023361206, 1.1835647821426392, 1.1835556030273438, 1.183513879776001, 1.1835558414459229, 1.1834577322006226, 1.1835564374923706, 1.1836127042770386, 1.1835815906524658, 1.1807962656021118, 1.1808236837387085, 1.1808264255523682, 1.1808574199676514, 1.1808757781982422, 1.180891990661621, 1.1809263229370117, 1.2536439895629883, 1.253669261932373, 2.003950357437134, 2.003919839859009, 3.64551043510437, 3.645434617996216, 2.0040085315704346, 2.0041754245758057, 2.0041232109069824, 2.004168748855591, 2.004122495651245, 2.8249123096466064, 2.0040647983551025, 2.004199743270874, 2.0042564868927, 2.004138469696045, 2.004281520843506, 2.004260301589966, 2.997454881668091, 13.965989112854004, 11.2456693649292, 7.617671012878418, 5.80397367477417, 3.0837903022766113, 3.083544969558716, 3.0839552879333496, 3.083827257156372, 3.0837230682373047, 3.0836923122406006, 3.0830767154693604, 3.083650588989258, 3.0840494632720947, 3.0839240550994873, 3.0838682651519775, 2.176668405532837, 2.1767585277557373, 2.1769158840179443, 2.1767406463623047, 2.177069902420044, 2.176435947418213, 2.176694631576538, 2.176746129989624, 2.176555633544922, 2.176678419113159, 1.269904375076294, 1.2698677778244019, 1.26975679397583, 1.269894003868103, 1.2698426246643066, 4.80901575088501, 8.493814468383789, 2.994709014892578, 2.997454881668091, 3.0677080154418945, 5.448671817779541, 3.64551043510437, 3.645434617996216, 2.8249123096466064, 2.004281520843506, 2.004138469696045, 2.0041232109069824, 2.004260301589966, 2.0041754245758057, 2.0042564868927, 2.004199743270874, 2.004168748855591, 2.0040647983551025, 2.003950357437134, 2.004122495651245, 2.003919839859009, 2.0040085315704346, 1.1835647821426392, 1.1835815906524658, 1.1835564374923706, 1.1835365295410156, 1.1836127042770386, 1.183453917503357, 1.1834685802459717, 1.1834577322006226, 1.1834954023361206, 1.1835556030273438, 1.1834524869918823, 1.18350350856781, 1.183513879776001, 1.1835558414459229, 1.1834810972213745, 2.997454881668091, 14.269886016845703, 1.1807962656021118, 1.1808236837387085, 1.1808264255523682, 1.1808574199676514, 1.1808757781982422, 1.180891990661621, 1.1809263229370117, 1.1833617687225342, 1.1833664178848267, 1.183375358581543, 1.1834017038345337, 1.1834217309951782, 1.1834490299224854, 1.1834524869918823, 1.183453917503357, 1.1834577322006226, 1.1834685802459717, 1.1834810972213745, 1.1834954023361206, 1.18350350856781, 1.183513879776001, 1.1835365295410156, 1.1835556030273438, 1.1835558414459229, 1.1835564374923706, 1.1835647821426392, 1.1835815906524658, 1.1836127042770386, 1.2536439895629883, 1.253669261932373, 1.2698677778244019, 1.2697211503982544, 13.965989112854004, 11.2456693649292, 7.617671012878418, 5.80397367477417, 8.493814468383789, 4.80901575088501, 3.083827257156372, 3.0839240550994873, 3.0839552879333496, 3.0830767154693604, 3.0838682651519775, 2.176694631576538, 2.994709014892578, 3.0840494632720947, 3.083544969558716, 3.0836923122406006, 2.1767585277557373, 2.176678419113159, 2.176435947418213, 3.083650588989258, 3.0837230682373047, 3.0837903022766113, 2.176668405532837, 2.176746129989624, 2.177069902420044, 2.1769158840179443, 5.448671817779541, 2.1767406463623047, 3.0677080154418945, 2.176555633544922], \"loglift\": [30.0, 29.0, 28.0, 27.0, 26.0, 25.0, 24.0, 23.0, 22.0, 21.0, 20.0, 19.0, 18.0, 17.0, 16.0, 15.0, 14.0, 13.0, 12.0, 11.0, 10.0, 9.0, 8.0, 7.0, 6.0, 5.0, 4.0, 3.0, 2.0, 1.0, 1.1823999881744385, 1.180299997329712, 1.1791000366210938, 1.1791000366210938, 1.1268999576568604, 1.104699969291687, 1.0627000331878662, 1.0627000331878662, 1.0627000331878662, 1.0627000331878662, 1.062600016593933, 1.062600016593933, 1.062600016593933, 1.062600016593933, 1.062600016593933, 1.062600016593933, 0.9528999924659729, 0.9528999924659729, 0.9528999924659729, 0.9528999924659729, 0.9528999924659729, 0.9528999924659729, 0.9527999758720398, 0.9527999758720398, 0.9527999758720398, 0.9527999758720398, 0.9527999758720398, 0.9527999758720398, 0.05860000103712082, -0.3127000033855438, -0.33070001006126404, 0.8802000284194946, 0.8798999786376953, 0.879800021648407, 0.8794000148773193, 0.8791999816894531, 0.8790000081062317, 0.8784999847412109, 0.8736000061035156, 0.8736000061035156, 0.8736000061035156, 0.8734999895095825, 0.8734999895095825, 0.8734999895095825, 0.8734999895095825, 0.8734999895095825, 0.8734999895095825, 0.8734999895095825, 0.8734999895095825, 0.8734999895095825, 0.8733999729156494, 0.8733999729156494, 0.8733999729156494, 0.8733999729156494, 0.8733999729156494, 0.8733999729156494, 0.8733999729156494, 0.8733999729156494, 0.8733999729156494, 0.8159000277519226, 0.8159000277519226, 0.8062000274658203, 0.805899977684021, 0.8058000206947327, 0.8057000041007996, 0.8055999875068665, 0.8054999709129333, 0.805400013923645, 0.8051000237464905, -1.5433000326156616, 0.8051000237464905, 0.8051000237464905, 0.8051000237464905, 0.8050000071525574, 0.8047999739646912, -1.0700000524520874, -1.5573999881744385, -0.6302000284194946, -0.45089998841285706, -0.4487999975681305, -1.3517999649047852, -0.23389999568462372, 0.35749998688697815, -0.23520000278949738, 0.35670000314712524, -0.9714999794960022, -0.7024999856948853, -0.5152000188827515, -1.0849000215530396, -0.07450000196695328, -0.04610000178217888, -0.07599999755620956, -0.07680000364780426, -0.07739999890327454, -0.07750000059604645, -0.07760000228881836, -0.07779999822378159, -0.07800000160932541, -0.07800000160932541, -0.07880000025033951, 0.26930001378059387, 0.26919999718666077, 0.26930001378059387, -0.0794999971985817, 0.8744999766349792, 0.8744999766349792, 0.8744999766349792, 0.8744000196456909, 0.8744000196456909, 0.8744000196456909, 0.8744000196456909, 0.8723000288009644, 0.8723000288009644, 0.8723000288009644, 0.8723000288009644, 0.8723000288009644, 0.8722000122070312, 0.8722000122070312, 0.8722000122070312, 0.8722000122070312, 0.8722000122070312, 0.8722000122070312, 0.8722000122070312, 0.8722000122070312, 0.8722000122070312, 0.8722000122070312, 0.8722000122070312, 0.8722000122070312, 0.8722000122070312, 0.8722000122070312, 0.8720999956130981, 0.8720999956130981, 0.8199999928474426, 0.8197000026702881, 0.8192999958992004, 0.8192999958992004, 0.8190000057220459, 0.8185999989509583, 0.8184999823570251, 0.8183000087738037, 0.8181999921798706, 0.8179000020027161, 0.8177000284194946, 0.8174999952316284, 0.8044999837875366, 0.8043000102043152, 0.8041999936103821, 0.8041999936103821, 0.8041999936103821, 0.804099977016449, 0.8040000200271606, 0.8040000200271606, -1.5148999691009521, -1.6971999406814575, -1.5231000185012817, -1.5867999792099, 0.8039000034332275, 0.803600013256073, 0.8034999966621399, 0.8034999966621399, 0.8034999966621399, -1.5622999668121338, -0.30979999899864197, -1.3530999422073364, 0.2872999906539917, 0.2867000102996826, 0.28630000352859497, 0.2856999933719635, -0.9692000150680542, -1.0780999660491943, -0.7035999894142151, -0.06080000102519989, -0.07660000026226044, -0.5216000080108643, -0.07729999721050262, -0.0722000002861023, -0.0778999999165535, 0.2849000096321106, 0.2847000062465668, -0.07840000092983246, -0.07859999686479568, -0.07859999686479568, -0.07890000194311142, 0.2842000126838684, -0.07890000194311142, 0.28349998593330383, 0.2833999991416931, 0.8801000118255615, 0.8795999884605408, 0.8795999884605408, 0.8794999718666077, 0.8794000148773193, 0.8794000148773193, 0.8792999982833862, 0.8791999816894531, 0.8791999816894531, 0.8791999816894531, 0.8790000081062317, 0.8790000081062317, 0.8790000081062317, 0.8788999915122986, 0.8787999749183655, 0.8787999749183655, 0.8787999749183655, 0.8787999749183655, 0.8787999749183655, 0.8787999749183655, 0.8787999749183655, 0.8787000179290771, 0.878600001335144, 0.878600001335144, 0.8784999847412109, 0.8784000277519226, 0.8784000277519226, 0.8783000111579895, 0.8190000057220459, 0.8188999891281128, 0.3560999929904938, 0.35589998960494995, 0.3555000126361847, -0.2387000024318695, 0.014299999922513962, -0.24079999327659607, 0.35510000586509705, 0.3546999990940094, 0.3544999957084656, 0.3546000123023987, 0.35440000891685486, 0.35409998893737793, 0.3537999987602234, 0.3537999987602234, 0.35370001196861267, 0.3531000018119812, -1.61080002784729, 0.8756999969482422, 0.8756999969482422, 0.8756999969482422, 0.8756999969482422, 0.8756999969482422, 0.8755999803543091, 0.8755999803543091, 0.8734999895095825, 0.8734999895095825, 0.8734999895095825, 0.8734999895095825, 0.8734999895095825, 0.8734999895095825, 0.8734999895095825, 0.8734999895095825, 0.8734999895095825, 0.8734999895095825, 0.8733999729156494, 0.8733999729156494, 0.8733999729156494, 0.8733999729156494, 0.8733999729156494, 0.8733999729156494, 0.8733999729156494, 0.8733999729156494, 0.8733999729156494, 0.8733999729156494, 0.8733000159263611, 0.8159000277519226, 0.8158000111579895, 0.8079000115394592, 0.8077999949455261, 0.8077999949455261, 0.8076000213623047, 0.8075000047683716, 0.8075000047683716, 0.8072999715805054, 0.8070999979972839, 0.8069000244140625, 0.8068000078201294, 0.8069000244140625, 0.8068000078201294, 0.8065999746322632, -1.5302000045776367, -1.3245999813079834, -0.9508000016212463, -0.6884999871253967, -1.0703999996185303, -0.0674000009894371, 0.27459999918937683, 0.274399995803833, 0.27410000562667847, 0.27399998903274536, -0.07100000232458115, -0.07129999995231628, 0.2732999920845032, 0.27309998869895935, -0.07199999690055847, -0.0723000019788742, 0.27239999175071716, -0.07240000367164612, -0.517300009727478, -0.07329999655485153, -0.07349999994039536, -0.0737999975681305, -0.07490000128746033, -0.04690000042319298, -0.0471000000834465, -0.0714000016450882, 0.27160000801086426, -0.07689999788999557, 0.27059999108314514, 0.2694999873638153, 1.7654999494552612, 1.7186000347137451, 1.718500018119812, 1.718500018119812, 1.6474000215530396, 1.6474000215530396, 1.5270999670028687, 1.5270999670028687, 1.5270999670028687, 1.5270999670028687, 1.5270999670028687, 1.5270999670028687, 1.5270999670028687, 1.4991999864578247, 1.4957000017166138, 1.313599944114685, 0.5964999794960022, 0.12280000001192093, -0.8702999949455261, -0.8704000115394592, -0.8708999752998352, -0.8709999918937683, -0.8709999918937683, -0.8709999918937683, -0.8711000084877014, -0.8711000084877014, -0.8711000084877014, -0.8711000084877014, -0.8711000084877014, -0.8711000084877014, -1.9911999702453613, -1.7379000186920166, -1.9931000471115112, -1.3947999477386475, -1.3961000442504883, -1.396399974822998, -1.396299958229065, -1.396399974822998, -1.3964999914169312, -1.3964999914169312, -1.3967000246047974, -1.3966000080108643, 0.8817999958992004, 0.8817999958992004, 0.8815000057220459, 0.8808000087738037, 0.8805999755859375, 0.8805999755859375, 0.880299985408783, 0.880299985408783, 0.8802000284194946, 0.8802000284194946, 0.8802000284194946, 0.8799999952316284, 0.8798999786376953, 0.8797000050544739, 0.8797000050544739, 0.8795999884605408, 0.8795999884605408, 0.8794999718666077, 0.8794000148773193, 0.8790000081062317, 0.8787999749183655, 0.8779000043869019, 0.8777999877929688, 0.8777999877929688, 0.8777999877929688, 0.8777999877929688, 0.8777999877929688, 0.8777999877929688, 0.8180000185966492, 0.8180000185966492, 0.36090001463890076, 0.3605000078678131, -0.23180000483989716, -0.2328999936580658, 0.3587000072002411, 0.35850000381469727, 0.3582000136375427, 0.3578999936580658, 0.35760000348091125, 0.016200000420212746, 0.3571999967098236, 0.35690000653266907, 0.35670000314712524, 0.35659998655319214, 0.35569998621940613, 0.35429999232292175, -0.049400001764297485, 1.0069999694824219, 1.0022000074386597, 0.9904000163078308, 0.9786999821662903, 0.9344000220298767, 0.9344000220298767, 0.9343000054359436, 0.9343000054359436, 0.9343000054359436, 0.9343000054359436, 0.9343000054359436, 0.9343000054359436, 0.9343000054359436, 0.9343000054359436, 0.9343000054359436, 0.8931999802589417, 0.8931999802589417, 0.8931999802589417, 0.8931999802589417, 0.8931999802589417, 0.8931999802589417, 0.8931999802589417, 0.8931999802589417, 0.8931000232696533, 0.8931000232696533, 0.7856000065803528, 0.7856000065803528, 0.7856000065803528, 0.7856000065803528, 0.7856000065803528, 0.7698000073432922, 0.7498000264167786, 0.5741999745368958, 0.5733000040054321, 0.5501000285148621, -0.02419999986886978, 1.70169997215271, 1.7015999555587769, 1.6770999431610107, 1.6309000253677368, 1.6309000253677368, 1.6309000253677368, 1.6309000253677368, 1.6309000253677368, 1.6309000253677368, 1.6309000253677368, 1.6309000253677368, 1.6309000253677368, 1.6309000253677368, 1.6309000253677368, 1.6309000253677368, 1.6308000087738037, 1.5110000371932983, 1.5110000371932983, 1.5110000371932983, 1.5110000371932983, 1.5110000371932983, 1.5110000371932983, 1.5110000371932983, 1.5110000371932983, 1.5110000371932983, 1.5110000371932983, 1.5110000371932983, 1.5110000371932983, 1.5110000371932983, 1.5110000371932983, 1.5110000371932983, 0.5817000269889832, -0.978600025177002, 0.8798999786376953, 0.879800021648407, 0.879800021648407, 0.879800021648407, 0.879800021648407, 0.879800021648407, 0.879800021648407, 0.8776999711990356, 0.8776999711990356, 0.8776999711990356, 0.8776999711990356, 0.8776000142097473, 0.8776000142097473, 0.8776000142097473, 0.8776000142097473, 0.8776000142097473, 0.8776000142097473, 0.8776000142097473, 0.8776000142097473, 0.8776000142097473, 0.8776000142097473, 0.8774999976158142, 0.8774999976158142, 0.8774999976158142, 0.8774999976158142, 0.8774999976158142, 0.8774999976158142, 0.8774999976158142, 0.8199999928474426, 0.8199999928474426, 0.8072999715805054, 0.8073999881744385, -1.5886000394821167, -1.3726999759674072, -0.9835000038146973, -0.7116000056266785, -1.0923999547958374, -0.5238000154495239, -0.07959999889135361, -0.07970000058412552, -0.07980000227689743, -0.0794999971985817, -0.07970000058412552, 0.2685999870300293, -0.05040000006556511, -0.07980000227689743, -0.07970000058412552, -0.07970000058412552, 0.2685999870300293, 0.2685999870300293, 0.2687000036239624, -0.07970000058412552, -0.07980000227689743, -0.07980000227689743, 0.2685000002384186, 0.2685000002384186, 0.26829999685287476, 0.26840001344680786, -0.6491000056266785, 0.2685000002384186, -0.07460000365972519, 0.2685000002384186], \"logprob\": [30.0, 29.0, 28.0, 27.0, 26.0, 25.0, 24.0, 23.0, 22.0, 21.0, 20.0, 19.0, 18.0, 17.0, 16.0, 15.0, 14.0, 13.0, 12.0, 11.0, 10.0, 9.0, 8.0, 7.0, 6.0, 5.0, 4.0, 3.0, 2.0, 1.0, -1.8868000507354736, -2.0039000511169434, -2.0680999755859375, -2.0680999755859375, -3.371799945831299, -3.6512999534606934, -4.0406999588012695, -4.0406999588012695, -4.0406999588012695, -4.040800094604492, -4.040800094604492, -4.040800094604492, -4.040800094604492, -4.040900230407715, -4.040900230407715, -4.040900230407715, -4.687399864196777, -4.687399864196777, -4.687399864196777, -4.687399864196777, -4.6875, -4.6875, -4.6875, -4.6875, -4.6875, -4.6875, -4.687600135803223, -4.687600135803223, -4.6869001388549805, -4.03980016708374, -4.6875, -4.820000171661377, -4.820400238037109, -4.820400238037109, -4.820799827575684, -4.821000099182129, -4.821199893951416, -4.821700096130371, -4.82450008392334, -4.82450008392334, -4.82450008392334, -4.82450008392334, -4.82450008392334, -4.82450008392334, -4.82450008392334, -4.82450008392334, -4.82450008392334, -4.82450008392334, -4.82450008392334, -4.82450008392334, -4.82450008392334, -4.82450008392334, -4.82450008392334, -4.82450008392334, -4.82450008392334, -4.82450008392334, -4.82450008392334, -4.82450008392334, -4.82450008392334, -4.82450008392334, -4.82450008392334, -4.821499824523926, -4.821700096130371, -4.821899890899658, -4.821899890899658, -4.8221001625061035, -4.8221001625061035, -4.822199821472168, -4.822400093078613, -4.7515997886657715, -4.822500228881836, -4.822500228881836, -4.822500228881836, -4.822700023651123, -4.822700023651123, -4.791299819946289, -4.787199974060059, -4.801199913024902, -4.804100036621094, -4.805600166320801, -4.798299789428711, -4.809800148010254, -4.816400051116943, -4.811100006103516, -4.817200183868408, -4.807499885559082, -4.810400009155273, -4.811200141906738, -4.811999797821045, -4.815100193023682, -4.815800189971924, -4.816299915313721, -4.817200183868408, -4.817699909210205, -4.81790018081665, -4.81790018081665, -4.81820011138916, -4.81820011138916, -4.818299770355225, -4.8190999031066895, -4.819300174713135, -4.819399833679199, -4.819499969482422, -4.819699764251709, -4.825799942016602, -4.825799942016602, -4.825799942016602, -4.825799942016602, -4.825799942016602, -4.825799942016602, -4.825799942016602, -4.825799942016602, -4.825799942016602, -4.825799942016602, -4.825799942016602, -4.825799942016602, -4.825799942016602, -4.825799942016602, -4.825799942016602, -4.825799942016602, -4.825799942016602, -4.825799942016602, -4.825799942016602, -4.825799942016602, -4.825799942016602, -4.825799942016602, -4.825799942016602, -4.825799942016602, -4.825799942016602, -4.825799942016602, -4.825799942016602, -4.825799942016602, -4.820400238037109, -4.820700168609619, -4.821000099182129, -4.821100234985352, -4.821300029754639, -4.821700096130371, -4.821899890899658, -4.822000026702881, -4.8221001625061035, -4.822400093078613, -4.8225998878479, -4.822800159454346, -4.823200225830078, -4.823299884796143, -4.823400020599365, -4.823400020599365, -4.823400020599365, -4.823500156402588, -4.823599815368652, -4.823599815368652, -4.7621002197265625, -4.76639986038208, -4.770299911499023, -4.770999908447266, -4.823800086975098, -4.823999881744385, -4.823999881744385, -4.823999881744385, -4.824100017547607, -4.792099952697754, -4.808499813079834, -4.799600124359131, -4.816199779510498, -4.81689977645874, -4.817200183868408, -4.817800045013428, -4.805200099945068, -4.805200099945068, -4.811500072479248, -4.816800117492676, -4.81689977645874, -4.817599773406982, -4.817699909210205, -4.817699909210205, -4.81820011138916, -4.818600177764893, -4.818699836730957, -4.81879997253418, -4.818900108337402, -4.818900108337402, -4.819200038909912, -4.819300174713135, -4.819499969482422, -4.819900035858154, -4.820000171661377, -4.81790018081665, -4.81850004196167, -4.81850004196167, -4.81850004196167, -4.818600177764893, -4.818699836730957, -4.81879997253418, -4.81879997253418, -4.81879997253418, -4.818900108337402, -4.818999767303467, -4.818900108337402, -4.818999767303467, -4.819200038909912, -4.821400165557861, -4.8190999031066895, -4.821400165557861, -4.821400165557861, -4.821400165557861, -4.821400165557861, -4.821400165557861, -4.821400165557861, -4.819399833679199, -4.819300174713135, -4.819499969482422, -4.819499969482422, -4.819499969482422, -4.8196001052856445, -4.821400165557861, -4.821400165557861, -4.815100193023682, -4.815400123596191, -4.815700054168701, -4.811699867248535, -4.813700199127197, -4.813700199127197, -4.816199779510498, -4.8165998458862305, -4.816699981689453, -4.816800117492676, -4.81689977645874, -4.817200183868408, -4.817399978637695, -4.817399978637695, -4.817599773406982, -4.8180999755859375, -4.8190999031066895, -4.8246002197265625, -4.8246002197265625, -4.8246002197265625, -4.8246002197265625, -4.8246002197265625, -4.8246002197265625, -4.8246002197265625, -4.8246002197265625, -4.8246002197265625, -4.8246002197265625, -4.8246002197265625, -4.8246002197265625, -4.8246002197265625, -4.8246002197265625, -4.8246002197265625, -4.8246002197265625, -4.8246002197265625, -4.8246002197265625, -4.8246002197265625, -4.8246002197265625, -4.8246002197265625, -4.8246002197265625, -4.8246002197265625, -4.8246002197265625, -4.8246002197265625, -4.8246002197265625, -4.8246002197265625, -4.8246002197265625, -4.8246002197265625, -4.8246002197265625, -4.819699764251709, -4.819799900054932, -4.819799900054932, -4.820099830627441, -4.820099830627441, -4.820199966430664, -4.820400238037109, -4.820499897003174, -4.8206000328063965, -4.820700168609619, -4.820700168609619, -4.820799827575684, -4.821000099182129, -4.7600998878479, -4.771100044250488, -4.786799907684326, -4.79640007019043, -4.797500133514404, -4.808000087738037, -4.8140997886657715, -4.8144001960754395, -4.814599990844727, -4.814700126647949, -4.811299800872803, -4.811699867248535, -4.815400123596191, -4.815499782562256, -4.812300205230713, -4.812600135803223, -4.816199779510498, -4.81279993057251, -4.813300132751465, -4.813600063323975, -4.813799858093262, -4.8140997886657715, -4.815199851989746, -4.8155999183654785, -4.816699981689453, -4.816999912261963, -4.816999912261963, -4.8171000480651855, -4.81790018081665, -4.818999767303467, -1.955899953842163, -1.4896999597549438, -2.8573999404907227, -2.8575000762939453, -3.5264999866485596, -3.5264999866485596, -4.172999858856201, -4.173099994659424, -4.173099994659424, -4.173099994659424, -4.1732001304626465, -4.1732001304626465, -4.1732001304626465, -2.857599973678589, -2.8575000762939453, -2.8575000762939453, -4.1732001304626465, -4.1732001304626465, -6.568399906158447, -6.56850004196167, -6.568900108337402, -6.568900108337402, -6.5690999031066895, -6.568900108337402, -6.569200038909912, -6.568999767303467, -6.5690999031066895, -6.5690999031066895, -6.5690999031066895, -6.5690999031066895, -6.564199924468994, -6.565899848937988, -6.566100120544434, -6.566100120544434, -6.567399978637695, -6.567699909210205, -6.567699909210205, -6.567699909210205, -6.567699909210205, -6.567800045013428, -6.56790018081665, -6.56790018081665, -4.816299915313721, -4.816299915313721, -4.8165998458862305, -4.817299842834473, -4.817399978637695, -4.817500114440918, -4.817699909210205, -4.817699909210205, -4.817800045013428, -4.817800045013428, -4.81790018081665, -4.81790018081665, -4.8180999755859375, -4.81820011138916, -4.81820011138916, -4.818399906158447, -4.818399906158447, -4.818600177764893, -4.818600177764893, -4.818900108337402, -4.8190999031066895, -4.822400093078613, -4.822400093078613, -4.822400093078613, -4.822400093078613, -4.822400093078613, -4.822400093078613, -4.822400093078613, -4.822400093078613, -4.822400093078613, -4.810400009155273, -4.8109002113342285, -4.804800033569336, -4.805799961090088, -4.812600135803223, -4.812699794769287, -4.8130998611450195, -4.813399791717529, -4.813700199127197, -4.811800003051758, -4.8140997886657715, -4.814300060272217, -4.814499855041504, -4.814700126647949, -4.815499782562256, -4.81689977645874, -4.8180999755859375, -2.2228000164031982, -2.444200038909912, -2.845599889755249, -3.129199981689453, -3.8059000968933105, -3.805999994277954, -3.8059000968933105, -3.8059000968933105, -3.805999994277954, -3.805999994277954, -3.8062000274658203, -3.805999994277954, -3.8059000968933105, -3.8059000968933105, -3.805999994277954, -4.195400238037109, -4.195400238037109, -4.195300102233887, -4.195400238037109, -4.195300102233887, -4.1956000328063965, -4.195499897003174, -4.195499897003174, -4.1956000328063965, -4.195499897003174, -4.841899871826172, -4.841899871826172, -4.842100143432617, -4.8420000076293945, -4.8420000076293945, -3.52620005607605, -2.977299928665161, -4.195400238037109, -4.195400238037109, -4.195499897003174, -4.195300102233887, -2.871299982070923, -2.871299982070923, -3.150899887084961, -3.540299892425537, -3.540299892425537, -3.5404000282287598, -3.540299892425537, -3.540299892425537, -3.540299892425537, -3.540299892425537, -3.5404000282287598, -3.5404000282287598, -3.5404999256134033, -3.5404000282287598, -3.5404999256134033, -3.5404999256134033, -4.1869001388549805, -4.1869001388549805, -4.1869001388549805, -4.1869001388549805, -4.1869001388549805, -4.186999797821045, -4.186999797821045, -4.186999797821045, -4.186999797821045, -4.1869001388549805, -4.186999797821045, -4.186999797821045, -4.186999797821045, -4.1869001388549805, -4.186999797821045, -4.186999797821045, -4.186999797821045, -4.820400238037109, -4.820400238037109, -4.820400238037109, -4.820400238037109, -4.820400238037109, -4.820400238037109, -4.820400238037109, -4.820400238037109, -4.820400238037109, -4.820400238037109, -4.820400238037109, -4.820400238037109, -4.820400238037109, -4.820400238037109, -4.820400238037109, -4.820400238037109, -4.820400238037109, -4.820400238037109, -4.820400238037109, -4.820400238037109, -4.820400238037109, -4.820400238037109, -4.820400238037109, -4.820400238037109, -4.820400238037109, -4.820400238037109, -4.820400238037109, -4.820400238037109, -4.820400238037109, -4.820400238037109, -4.820199966430664, -4.820199966430664, -4.81850004196167, -4.819200038909912, -4.819499969482422, -4.819499969482422, -4.8196001052856445, -4.819799900054932, -4.819900035858154, -4.819900035858154, -4.820000171661377, -4.820000171661377, -4.820000171661377, -4.820099830627441, -4.820099830627441, -4.820099830627441, -4.820099830627441, -4.820099830627441, -4.820099830627441, -4.820099830627441, -4.820099830627441, -4.820099830627441, -4.820099830627441, -4.820099830627441, -4.820099830627441, -4.820099830627441, -4.820099830627441, -4.820099830627441, -4.820199966430664, -4.820199966430664, -4.820199966430664, -4.820199966430664]}, \"token.table\": {\"Topic\": [1, 1, 6, 1, 1, 1, 8, 9, 8, 9, 8, 1, 9, 6, 6, 8, 8, 1, 1, 8, 1, 8, 9, 8, 8, 1, 9, 8, 8, 6, 1, 9, 6, 8, 9, 9, 1, 8, 9, 9, 9, 9, 9, 8, 8, 1, 8, 8, 9, 9, 9, 8, 8, 8, 8, 1, 1, 9, 1, 6, 8, 9, 9, 1, 8, 6, 8, 1, 6, 9, 9, 1, 1, 1, 6, 8, 9, 9, 9, 9, 9, 6, 8, 8, 8, 9, 1, 8, 6, 1, 6, 8, 6, 1, 8, 9, 8, 9, 8, 9, 9, 1, 8, 6, 9, 8, 1, 8, 8, 8, 6, 9, 8, 8, 9, 8, 6, 1, 9, 6, 6, 9, 1, 8, 1, 1, 9, 8, 8, 9, 8, 9, 1], \"Freq\": [0.9324947595596313, 0.22098006308078766, 0.6629401445388794, 0.7975441217422485, 0.7975553870201111, 0.9882073402404785, 0.9729061722755432, 0.9978638291358948, 0.9188354015350342, 0.8449488878250122, 0.9189335703849792, 0.932515561580658, 0.8229471445083618, 0.8253559470176697, 0.660590648651123, 0.22019687294960022, 0.9187309741973877, 0.7975804805755615, 0.7976399660110474, 0.9727866053581238, 1.018766164779663, 0.9188048839569092, 0.8449816107749939, 0.9781543016433716, 0.787529706954956, 0.9325209856033325, 0.9979350566864014, 0.7874835729598999, 0.9728041887283325, 0.8468422889709473, 0.9325853586196899, 0.9978762865066528, 1.0005793571472168, 0.787499189376831, 0.8449253439903259, 0.8449738621711731, 0.9577374458312988, 0.9727470278739929, 0.8449115753173828, 0.99787437915802, 1.06197988986969, 0.9980438947677612, 0.8450404405593872, 0.9728500247001648, 0.9188026189804077, 0.7976585626602173, 0.9186659455299377, 0.9188830256462097, 0.9979426264762878, 0.9979717135429382, 0.9979045391082764, 0.7875784039497375, 1.0024352073669434, 0.9728596806526184, 0.7875791788101196, 0.7976230382919312, 0.9471258521080017, 0.8449842929840088, 0.9325741529464722, 0.8468174934387207, 0.7874608635902405, 0.8449110984802246, 0.8449051380157471, 0.23546546697616577, 0.7063964009284973, 0.20794275403022766, 0.8317710161209106, 0.9324660301208496, 0.8468291163444519, 0.8449649214744568, 0.9979166388511658, 0.9324716329574585, 0.9470744729042053, 0.9324387907981873, 0.33392226696014404, 0.6678445339202881, 0.8450468182563782, 0.9979199767112732, 0.8448709845542908, 0.9980286955833435, 0.8449546694755554, 1.0006107091903687, 0.7874673008918762, 0.7875691652297974, 0.918824315071106, 0.8449878096580505, 0.9325504899024963, 0.9189160466194153, 0.9364474415779114, 0.7975642085075378, 0.5505928993225098, 0.36706194281578064, 0.8467928767204285, 0.9756197929382324, 0.9728728532791138, 0.8450216054916382, 0.9728288054466248, 0.8448931574821472, 0.9188311696052551, 0.8450500965118408, 0.9979429841041565, 0.7976745963096619, 0.9730539321899414, 0.846886157989502, 0.8449853658676147, 0.9727767705917358, 0.32597625255584717, 0.6519525051116943, 1.033774495124817, 0.9187973737716675, 0.9110093712806702, 0.07007764279842377, 0.7875524163246155, 0.7875105738639832, 0.8450073003768921, 0.9728171229362488, 0.8468645215034485, 0.7975892424583435, 0.8449414968490601, 0.8253321051597595, 0.8468664884567261, 0.8449116945266724, 0.9326103329658508, 0.7875745296478271, 0.7976022958755493, 0.7976379990577698, 0.9979997277259827, 0.7875404357910156, 0.7875555157661438, 0.8229300379753113, 0.6672327518463135, 0.33361637592315674, 0.7975947856903076], \"Term\": [\"'cause\", \"alone\", \"alone\", \"answer\", \"beating\", \"behind\", \"better\", \"beyond\", \"big\", \"blues\", \"bop\", \"breathe\", \"brick\", \"bring\", \"burning\", \"burning\", \"call\", \"cause\", \"change\", \"chevy\", \"choose\", \"clock\", \"couple\", \"crocodile\", \"crying\", \"daddy\", \"decide\", \"dreaming\", \"dress\", \"earth\", \"family\", \"finally\", \"flight\", \"foreign\", \"forever\", \"found\", \"freedom\", \"friday\", \"friend\", \"future\", \"going\", \"goodbye\", \"ground\", \"guess\", \"hands\", \"heart\", \"holding\", \"hop\", \"horny\", \"howling\", \"hunting\", \"jean\", \"lalalala\", \"lawdy\", \"learning\", \"leave\", \"light\", \"listen\", \"living\", \"lonely\", \"machine\", \"maybe\", \"mongrel\", \"never\", \"never\", \"night\", \"night\", \"others\", \"pack\", \"penny\", \"penthouse\", \"people\", \"philadelphia\", \"piece\", \"place\", \"place\", \"plane\", \"plant\", \"plenty\", \"plough\", \"present\", \"raise\", \"really\", \"record\", \"remember\", \"replacement\", \"right\", \"rock\", \"rocket\", \"rolling\", \"round\", \"round\", \"science\", \"shine\", \"shock\", \"shoot\", \"sight\", \"singing\", \"skimming\", \"sniff\", \"society\", \"someone\", \"something\", \"space\", \"stay\", \"still\", \"stone\", \"stone\", \"suzie\", \"thing\", \"think\", \"think\", \"thought\", \"thrill\", \"tidbit\", \"tight\", \"timeless\", \"times\", \"tonic\", \"touch\", \"understand\", \"vodka\", \"wave\", \"week\", \"whippoorwill\", \"without\", \"woods\", \"would\", \"years\", \"yellow\", \"young\", \"young\", \"zap\"]}, \"R\": 30, \"lambda.step\": 0.01, \"plot.opts\": {\"xlab\": \"PC1\", \"ylab\": \"PC2\"}, \"topic.order\": [1, 2, 3, 4, 5, 6, 7, 8, 9, 10]};\n",
       "\n",
       "function LDAvis_load_lib(url, callback){\n",
       "  var s = document.createElement('script');\n",
       "  s.src = url;\n",
       "  s.async = true;\n",
       "  s.onreadystatechange = s.onload = callback;\n",
       "  s.onerror = function(){console.warn(\"failed to load library \" + url);};\n",
       "  document.getElementsByTagName(\"head\")[0].appendChild(s);\n",
       "}\n",
       "\n",
       "if(typeof(LDAvis) !== \"undefined\"){\n",
       "   // already loaded: just create the visualization\n",
       "   !function(LDAvis){\n",
       "       new LDAvis(\"#\" + \"ldavis_el115521123205221843212574217\", ldavis_el115521123205221843212574217_data);\n",
       "   }(LDAvis);\n",
       "}else if(typeof define === \"function\" && define.amd){\n",
       "   // require.js is available: use it to load d3/LDAvis\n",
       "   require.config({paths: {d3: \"https://cdnjs.cloudflare.com/ajax/libs/d3/3.5.5/d3.min\"}});\n",
       "   require([\"d3\"], function(d3){\n",
       "      window.d3 = d3;\n",
       "      LDAvis_load_lib(\"https://cdn.rawgit.com/bmabey/pyLDAvis/files/ldavis.v1.0.0.js\", function(){\n",
       "        new LDAvis(\"#\" + \"ldavis_el115521123205221843212574217\", ldavis_el115521123205221843212574217_data);\n",
       "      });\n",
       "    });\n",
       "}else{\n",
       "    // require.js not available: dynamically load d3 & LDAvis\n",
       "    LDAvis_load_lib(\"https://cdnjs.cloudflare.com/ajax/libs/d3/3.5.5/d3.min.js\", function(){\n",
       "         LDAvis_load_lib(\"https://cdn.rawgit.com/bmabey/pyLDAvis/files/ldavis.v1.0.0.js\", function(){\n",
       "                 new LDAvis(\"#\" + \"ldavis_el115521123205221843212574217\", ldavis_el115521123205221843212574217_data);\n",
       "            })\n",
       "         });\n",
       "}\n",
       "</script>"
      ],
      "text/plain": [
       "<IPython.core.display.HTML object>"
      ]
     },
     "execution_count": 40,
     "metadata": {},
     "output_type": "execute_result"
    }
   ],
   "source": [
    "lda10 = gensim.models.ldamodel.LdaModel.load('model10.gensim')\n",
    "lda_display10 = pyLDAvis.gensim.prepare(lda10, corpus, dictionary, sort_topics=False)\n",
    "pyLDAvis.display(lda_display10)"
   ]
  },
  {
   "cell_type": "code",
   "execution_count": null,
   "metadata": {},
   "outputs": [],
   "source": []
  }
 ],
 "metadata": {
  "kernelspec": {
   "display_name": "Python 3",
   "language": "python",
   "name": "python3"
  },
  "language_info": {
   "codemirror_mode": {
    "name": "ipython",
    "version": 3
   },
   "file_extension": ".py",
   "mimetype": "text/x-python",
   "name": "python",
   "nbconvert_exporter": "python",
   "pygments_lexer": "ipython3",
   "version": "3.6.6"
  }
 },
 "nbformat": 4,
 "nbformat_minor": 2
}
